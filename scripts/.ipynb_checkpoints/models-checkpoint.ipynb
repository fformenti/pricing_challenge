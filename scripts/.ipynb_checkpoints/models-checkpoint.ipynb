{
 "cells": [
  {
   "cell_type": "code",
   "execution_count": 38,
   "metadata": {
    "collapsed": true
   },
   "outputs": [],
   "source": [
    "import sys\n",
    "import psycopg2\n",
    "import pandas.io.sql as psql\n",
    "import pandas as pd\n",
    "import numpy as np\n",
    "import matplotlib.pyplot as plt\n",
    "\n",
    "from sklearn.ensemble import GradientBoostingRegressor\n",
    "from sklearn import linear_model\n",
    "from sklearn import preprocessing\n",
    "from sklearn.preprocessing import Imputer\n",
    "from sklearn.metrics import mean_squared_error\n",
    "\n",
    "from sklearn import cross_validation, metrics   #Additional scklearn functions\n",
    "from sklearn.grid_search import GridSearchCV   #Perforing grid search\n",
    "\n",
    "import my_pass\n",
    "%matplotlib inline"
   ]
  },
  {
   "cell_type": "code",
   "execution_count": 39,
   "metadata": {
    "collapsed": true
   },
   "outputs": [],
   "source": [
    "def reading(host, DB, username, password):\n",
    "    conn_string = \"host=\" + host + \" dbname=\" + DB + \" user=\" + username + \" password=\" + password\n",
    "    # get connected to the database\n",
    "    connection = psycopg2.connect(conn_string)\n",
    "    query = \"SELECT * FROM b2w_schema.sales_agg;\"\n",
    "    sales = psql.read_sql(query, connection)\n",
    "    # Here I'm only selecting immeadiate pay\n",
    "    query = \"SELECT prod_id,date_order,competitor, min(competitor_price) as competitor_price\\\n",
    "            FROM b2w_schema.comp_prices \\\n",
    "            GROUP BY prod_id,date_order,competitor,pay_type \\\n",
    "            HAVING pay_type = 2;\"\n",
    "    price_im = psql.read_sql(query, connection)\n",
    "    return (sales,price_im)"
   ]
  },
  {
   "cell_type": "code",
   "execution_count": 40,
   "metadata": {
    "collapsed": true
   },
   "outputs": [],
   "source": [
    "class ml_models(object):\n",
    "\n",
    "    def __init__(self, data, product):\n",
    "        self.df = data\n",
    "        self.product = product\n",
    "\n",
    "    def prepare_data(self):\n",
    "        # selecting a specific product to analyse\n",
    "        self.df = self.df[self.df['prod_id'] == self.product]\n",
    "\n",
    "        # Remove columns that only have missing values\n",
    "        self.df = self.df.dropna(axis=1,how='all')\n",
    "\n",
    "        # Transforming categorical varibales into factors\n",
    "        le_day_week = preprocessing.LabelEncoder()\n",
    "        self.df['day_week'] = le_day_week.fit_transform(self.df['day_week'])\n",
    "        self.df['month'] = le_day_week.fit_transform(self.df['month'])\n",
    "    \n",
    "    def qty_lag_1(self):\n",
    "        # Quantity sold from previous day\n",
    "        self.df.sort(['date_order'], ascending=[1], inplace = True)\n",
    "        self.df['qty_lag_1'] = self.df['qty_order'].shift(1)\n",
    "        self.df.loc[0,('qty_lag_1')] = self.df.loc[1,('qty_lag_1')]\n",
    "    \n",
    "    def cumsum_lag_3(self):\n",
    "        pass\n",
    "    \n",
    "    \n",
    "    def delta_lag2_lag1(self):\n",
    "        pass\n",
    "    \n",
    "    \n",
    "    def rem_rows_comp_NA(self, cols):\n",
    "        na_rows = self.df[cols].isnull().sum(axis=1)\n",
    "        self.df = self.df.ix[na_rows != len(cols)]\n",
    "        \n",
    "    def fill_comp_price_NA(self, col, cols):\n",
    "        df = self.df[cols]\n",
    "        df.drop(col, axis=1, inplace=True)\n",
    "        self.df.loc[:,('aux_col')] = df.mean(axis=1, skipna = True)\n",
    "        null_rows = self.df.loc[:,(col)].isnull()\n",
    "        self.df.loc[null_rows,(col)] = self.df.loc[null_rows,('aux_col')]\n",
    "        self.df.drop('aux_col', axis=1, inplace=True)\n",
    "    \n",
    "    def fill_prod_price_NA(self,col,min_value):\n",
    "        null_rows = self.df.loc[:,(col)].isnull()\n",
    "        self.df.loc[null_rows,(col)] = min_value\n",
    "    \n",
    "    def make_train_test(self,frac = 0.8, random_state = 200):\n",
    "        # creating a training and test sets\n",
    "        self.df_train = self.df.sample(frac = frac, random_state = random_state)\n",
    "        self.df_test = self.df.drop(self.df_train.index)\n",
    "        \n",
    "    def select_X_Y(self,Y, X_keep = [], X_drop = []):\n",
    "        \n",
    "        # Isolate Response variable\n",
    "        self.Y_train, self.Y_test = self.df_train[Y], self.df_test[Y]\n",
    "\n",
    "        # warning: drop_feat overrides keep_feat !!!\n",
    "        if X_drop:\n",
    "            self.X_train = self.df_train.drop(X_drop, axis=1, inplace=False)\n",
    "            self.X_test = self.df_test.drop(X_drop, axis=1, inplace=False)\n",
    "            # Remove Response variable from regressor set\n",
    "            self.X_train.drop(Y, axis=1, inplace=True)\n",
    "            self.X_test.drop(Y, axis=1, inplace=True)\n",
    "        elif X_keep:\n",
    "            self.X_train = self.df_train[X_keep]\n",
    "            self.X_test = self.df_test[X_keep]\n",
    "\n",
    "        # Total number of regressors\n",
    "        self.n_regressors = len(self.X_test.columns)\n",
    "\n",
    "    def predict_test(self, print_mse = True):\n",
    "        # Predict and update dataset\n",
    "        self.Y_pred = self.clf.predict(self.X_test)\n",
    "        mse = mean_squared_error(self.Y_test, self.Y_pred)\n",
    "        if print_mse:\n",
    "            print \"MSE: %.4f\" % mean_squared_error(self.Y_test, self.Y_pred)"
   ]
  },
  {
   "cell_type": "code",
   "execution_count": 41,
   "metadata": {
    "collapsed": true
   },
   "outputs": [],
   "source": [
    "class GBM(ml_models):\n",
    "    # Gradient Boosting\n",
    "    def __init__(self, data, product):\n",
    "        ml_models.__init__(self, data, product)\n",
    "\n",
    "    def fit_gb(self, params):\n",
    "        # Fit model\n",
    "        print self.X_train.columns\n",
    "        self.clf = GradientBoostingRegressor(**params)\n",
    "        self.clf.fit(self.X_train, self.Y_train)\n",
    "\n",
    "    def plot_feature_importance(self, n):\n",
    "        importances = self.clf.feature_importances_\n",
    "        feature_names = self.X_test.columns\n",
    "        indices = np.argsort(importances)[::-1][:n]\n",
    "        fig, ax = plt.subplots(1,1)\n",
    "        fig.set_size_inches(10,6)\n",
    "        plt.title(\"Feature importances\", fontsize = 16)\n",
    "        xlabels = [feature_names[int(i)] for i in indices]\n",
    "        plt.bar(range(n), importances[indices],\n",
    "                color=\"#799DBB\",  align=\"center\")\n",
    "        plt.grid()\n",
    "        plt.xticks(range(n), xlabels, rotation=90)\n",
    "        plt.xlim([-1, n])\n",
    "        plt.ylim([0, min(1, max(importances[indices]+0.0005))])\n",
    "        plt.xlabel('Features', fontsize = 14)\n",
    "        plt.ylabel('Feature Importance', fontsize = 14)\n",
    "        plt.title('Product '+  self.product +' Variable Importance')\n",
    "        plt.show()"
   ]
  },
  {
   "cell_type": "code",
   "execution_count": 42,
   "metadata": {
    "collapsed": true
   },
   "outputs": [],
   "source": [
    "class MLR(ml_models):\n",
    "    # Multiple linear regression\n",
    "    def __init__(self, data, product):\n",
    "        ml_models.__init__(self, data, product)\n",
    "\n",
    "    def fit_mlr(self):\n",
    "        # Fit model\n",
    "        self.clf = linear_model.LinearRegression(fit_intercept=False)\n",
    "        self.clf.fit(self.X_train, self.Y_train)\n",
    "        print self.clf.coef_"
   ]
  },
  {
   "cell_type": "markdown",
   "metadata": {},
   "source": [
    "# Analysis"
   ]
  },
  {
   "cell_type": "markdown",
   "metadata": {},
   "source": [
    "### Reading Data"
   ]
  },
  {
   "cell_type": "code",
   "execution_count": 43,
   "metadata": {
    "collapsed": false
   },
   "outputs": [],
   "source": [
    "# Output Path\n",
    "output_path = '/Users/felipeformentiferreira/Documents/github_portfolio/pricing_challenge/data/output/'\n",
    "\n",
    "# User inputs\n",
    "host = 'localhost'\n",
    "DB = 'postgres'\n",
    "username = my_pass.username\n",
    "password = my_pass.password\n",
    "\n",
    "# Reading tables\n",
    "sales, price_im = reading(host, DB, username, password)"
   ]
  },
  {
   "cell_type": "markdown",
   "metadata": {},
   "source": [
    "### Getting the Competitor's Price"
   ]
  },
  {
   "cell_type": "code",
   "execution_count": 44,
   "metadata": {
    "collapsed": false
   },
   "outputs": [],
   "source": [
    "# Reshaping the data to perform a join in order to get Competitor's Prices\n",
    "price_im_wide = pd.pivot_table(price_im, index = ['prod_id','date_order'], columns = ['competitor'], values = 'competitor_price')\n",
    "price_im_wide.reset_index(inplace = True)\n",
    "df = pd.merge(sales, price_im_wide, how='left', on=['prod_id','date_order'])"
   ]
  },
  {
   "cell_type": "markdown",
   "metadata": {},
   "source": [
    "## Fitting Models"
   ]
  },
  {
   "cell_type": "markdown",
   "metadata": {},
   "source": [
    "### P1"
   ]
  },
  {
   "cell_type": "markdown",
   "metadata": {},
   "source": [
    "#### Linear Regression (Baseline)"
   ]
  },
  {
   "cell_type": "code",
   "execution_count": 53,
   "metadata": {
    "collapsed": false
   },
   "outputs": [
    {
     "name": "stdout",
     "output_type": "stream",
     "text": [
      "[ 0.01121364]\n",
      "MSE: 253.8928\n"
     ]
    }
   ],
   "source": [
    "mlr = MLR(df, 'P1')\n",
    "mlr.prepare_data() \n",
    "mlr.make_train_test()\n",
    "ans_df_rhs = mlr.df[['prod_id','date_order']]\n",
    "mlr.select_X_Y(Y = 'qty_order', X_keep = ['price'])\n",
    "mlr.fit_mlr()\n",
    "\n",
    "# Predict\n",
    "mlr.predict_test()"
   ]
  },
  {
   "cell_type": "code",
   "execution_count": 54,
   "metadata": {
    "collapsed": true
   },
   "outputs": [],
   "source": [
    "# Writing the results to output folder\n",
    "d = {'price': mlr.X_test['price'], 'Y_test': mlr.Y_test, 'Y_pred': mlr.Y_pred}\n",
    "ans_df = pd.DataFrame(data=d)\n",
    "ans_df = pd.merge(ans_df, ans_df_rhs, how='left', left_index = True, right_index = True)\n",
    "ans_df.to_csv(output_path + 'mlr_' + my_product + '.csv',index = False)"
   ]
  },
  {
   "cell_type": "code",
   "execution_count": 56,
   "metadata": {
    "collapsed": false
   },
   "outputs": [
    {
     "data": {
      "text/html": [
       "<div>\n",
       "<table border=\"1\" class=\"dataframe\">\n",
       "  <thead>\n",
       "    <tr style=\"text-align: right;\">\n",
       "      <th></th>\n",
       "      <th>prod_id</th>\n",
       "      <th>date_order</th>\n",
       "      <th>price</th>\n",
       "      <th>Y_test</th>\n",
       "      <th>Y_pred</th>\n",
       "    </tr>\n",
       "  </thead>\n",
       "  <tbody>\n",
       "    <tr>\n",
       "      <th>4</th>\n",
       "      <td>P1</td>\n",
       "      <td>2015-05-10</td>\n",
       "      <td>1449.000000</td>\n",
       "      <td>10</td>\n",
       "      <td>16.248559</td>\n",
       "    </tr>\n",
       "    <tr>\n",
       "      <th>76</th>\n",
       "      <td>P1</td>\n",
       "      <td>2015-10-12</td>\n",
       "      <td>1499.000000</td>\n",
       "      <td>9</td>\n",
       "      <td>16.809241</td>\n",
       "    </tr>\n",
       "    <tr>\n",
       "      <th>138</th>\n",
       "      <td>P1</td>\n",
       "      <td>2015-05-13</td>\n",
       "      <td>1431.897368</td>\n",
       "      <td>19</td>\n",
       "      <td>16.056776</td>\n",
       "    </tr>\n",
       "    <tr>\n",
       "      <th>172</th>\n",
       "      <td>P1</td>\n",
       "      <td>2015-03-06</td>\n",
       "      <td>1487.888889</td>\n",
       "      <td>9</td>\n",
       "      <td>16.684645</td>\n",
       "    </tr>\n",
       "    <tr>\n",
       "      <th>204</th>\n",
       "      <td>P1</td>\n",
       "      <td>2015-06-26</td>\n",
       "      <td>1465.263636</td>\n",
       "      <td>11</td>\n",
       "      <td>16.430934</td>\n",
       "    </tr>\n",
       "    <tr>\n",
       "      <th>242</th>\n",
       "      <td>P1</td>\n",
       "      <td>2015-02-08</td>\n",
       "      <td>1499.000000</td>\n",
       "      <td>7</td>\n",
       "      <td>16.809241</td>\n",
       "    </tr>\n",
       "    <tr>\n",
       "      <th>245</th>\n",
       "      <td>P1</td>\n",
       "      <td>2015-05-22</td>\n",
       "      <td>1392.584118</td>\n",
       "      <td>17</td>\n",
       "      <td>15.615932</td>\n",
       "    </tr>\n",
       "    <tr>\n",
       "      <th>297</th>\n",
       "      <td>P1</td>\n",
       "      <td>2015-03-05</td>\n",
       "      <td>1381.361905</td>\n",
       "      <td>21</td>\n",
       "      <td>15.490090</td>\n",
       "    </tr>\n",
       "    <tr>\n",
       "      <th>356</th>\n",
       "      <td>P1</td>\n",
       "      <td>2015-08-21</td>\n",
       "      <td>1499.000000</td>\n",
       "      <td>2</td>\n",
       "      <td>16.809241</td>\n",
       "    </tr>\n",
       "    <tr>\n",
       "      <th>429</th>\n",
       "      <td>P1</td>\n",
       "      <td>2015-03-24</td>\n",
       "      <td>1467.500000</td>\n",
       "      <td>13</td>\n",
       "      <td>16.456011</td>\n",
       "    </tr>\n",
       "  </tbody>\n",
       "</table>\n",
       "</div>"
      ],
      "text/plain": [
       "    prod_id  date_order        price  Y_test     Y_pred\n",
       "4        P1  2015-05-10  1449.000000      10  16.248559\n",
       "76       P1  2015-10-12  1499.000000       9  16.809241\n",
       "138      P1  2015-05-13  1431.897368      19  16.056776\n",
       "172      P1  2015-03-06  1487.888889       9  16.684645\n",
       "204      P1  2015-06-26  1465.263636      11  16.430934\n",
       "242      P1  2015-02-08  1499.000000       7  16.809241\n",
       "245      P1  2015-05-22  1392.584118      17  15.615932\n",
       "297      P1  2015-03-05  1381.361905      21  15.490090\n",
       "356      P1  2015-08-21  1499.000000       2  16.809241\n",
       "429      P1  2015-03-24  1467.500000      13  16.456011"
      ]
     },
     "execution_count": 56,
     "metadata": {},
     "output_type": "execute_result"
    }
   ],
   "source": [
    "ans_df[['prod_id','date_order','price','Y_test','Y_pred']].head(10)"
   ]
  },
  {
   "cell_type": "markdown",
   "metadata": {},
   "source": [
    "#### Gradient Boosting"
   ]
  },
  {
   "cell_type": "code",
   "execution_count": 46,
   "metadata": {
    "collapsed": false
   },
   "outputs": [
    {
     "name": "stdout",
     "output_type": "stream",
     "text": [
      "Index([u'price', u'day_week', u'month', u'C1', u'C2', u'C3', u'C5', u'C6'], dtype='object')\n",
      "MSE: 80.0704\n"
     ]
    },
    {
     "name": "stderr",
     "output_type": "stream",
     "text": [
      "/usr/local/lib/python2.7/site-packages/ipykernel/__main__.py:39: SettingWithCopyWarning: \n",
      "A value is trying to be set on a copy of a slice from a DataFrame\n",
      "\n",
      "See the the caveats in the documentation: http://pandas.pydata.org/pandas-docs/stable/indexing.html#indexing-view-versus-copy\n"
     ]
    },
    {
     "data": {
      "image/png": "[encoded data removed]",
      "text/plain": [
       "<matplotlib.figure.Figure at 0x1139cdcd0>"
      ]
     },
     "metadata": {},
     "output_type": "display_data"
    }
   ],
   "source": [
    "my_product = 'P1'\n",
    "competitors = ['C1','C2','C3','C5','C6']\n",
    "\n",
    "# Creating a Gradient Boosting Object with the dataframe and a given product\n",
    "gb = GBM(df, my_product) \n",
    "gb.prepare_data()\n",
    "\n",
    "# Removing rows where there is no price for any competitor\n",
    "gb.rem_rows_comp_NA(competitors)\n",
    "for comp in competitors:\n",
    "    gb.fill_comp_price_NA(comp,competitors)\n",
    "\n",
    "# Creating a training and a test set to evaluate model later\n",
    "gb.make_train_test()\n",
    "ans_df_rhs = gb.df[['prod_id','date_order']]\n",
    "gb.select_X_Y(Y = 'qty_order', X_drop = ['prod_id','revenue','date_order'])\n",
    "\n",
    "# Fit Model\n",
    "params = {'n_estimators': 1000, 'max_depth': 2, 'max_features': 'sqrt', 'random_state': 5}\n",
    "gb.fit_gb(params)\n",
    "\n",
    "# Predict\n",
    "gb.predict_test()\n",
    "\n",
    "# Writing the results to output folder\n",
    "d = {'price': gb.X_test['price'], 'Y_test': gb.Y_test, 'Y_pred': gb.Y_pred}\n",
    "ans_df = pd.DataFrame(data=d)\n",
    "ans_df = pd.merge(ans_df, ans_df_rhs, how='left', left_index = True, right_index = True)\n",
    "ans_df.to_csv(output_path + my_product + '.csv',index = False)\n",
    "\n",
    "# Plot feature importance\n",
    "gb.plot_feature_importance(gb.n_regressors)"
   ]
  },
  {
   "cell_type": "code",
   "execution_count": 25,
   "metadata": {
    "collapsed": false
   },
   "outputs": [
    {
     "data": {
      "text/html": [
       "<div>\n",
       "<table border=\"1\" class=\"dataframe\">\n",
       "  <thead>\n",
       "    <tr style=\"text-align: right;\">\n",
       "      <th></th>\n",
       "      <th>prod_id</th>\n",
       "      <th>date_order</th>\n",
       "      <th>price</th>\n",
       "      <th>Y_test</th>\n",
       "      <th>Y_pred</th>\n",
       "    </tr>\n",
       "  </thead>\n",
       "  <tbody>\n",
       "    <tr>\n",
       "      <th>4</th>\n",
       "      <td>P1</td>\n",
       "      <td>2015-05-10</td>\n",
       "      <td>1449.000000</td>\n",
       "      <td>10</td>\n",
       "      <td>12.715567</td>\n",
       "    </tr>\n",
       "    <tr>\n",
       "      <th>76</th>\n",
       "      <td>P1</td>\n",
       "      <td>2015-10-12</td>\n",
       "      <td>1499.000000</td>\n",
       "      <td>9</td>\n",
       "      <td>20.642432</td>\n",
       "    </tr>\n",
       "    <tr>\n",
       "      <th>163</th>\n",
       "      <td>P1</td>\n",
       "      <td>2015-09-16</td>\n",
       "      <td>1489.006667</td>\n",
       "      <td>15</td>\n",
       "      <td>16.869822</td>\n",
       "    </tr>\n",
       "    <tr>\n",
       "      <th>186</th>\n",
       "      <td>P1</td>\n",
       "      <td>2015-03-26</td>\n",
       "      <td>1499.000000</td>\n",
       "      <td>6</td>\n",
       "      <td>13.624283</td>\n",
       "    </tr>\n",
       "    <tr>\n",
       "      <th>245</th>\n",
       "      <td>P1</td>\n",
       "      <td>2015-05-22</td>\n",
       "      <td>1392.584118</td>\n",
       "      <td>17</td>\n",
       "      <td>30.407509</td>\n",
       "    </tr>\n",
       "    <tr>\n",
       "      <th>264</th>\n",
       "      <td>P1</td>\n",
       "      <td>2015-04-11</td>\n",
       "      <td>1399.000000</td>\n",
       "      <td>20</td>\n",
       "      <td>27.175205</td>\n",
       "    </tr>\n",
       "    <tr>\n",
       "      <th>292</th>\n",
       "      <td>P1</td>\n",
       "      <td>2015-06-06</td>\n",
       "      <td>1471.744667</td>\n",
       "      <td>15</td>\n",
       "      <td>7.491392</td>\n",
       "    </tr>\n",
       "    <tr>\n",
       "      <th>368</th>\n",
       "      <td>P1</td>\n",
       "      <td>2015-08-06</td>\n",
       "      <td>1482.706522</td>\n",
       "      <td>23</td>\n",
       "      <td>25.271240</td>\n",
       "    </tr>\n",
       "    <tr>\n",
       "      <th>429</th>\n",
       "      <td>P1</td>\n",
       "      <td>2015-03-24</td>\n",
       "      <td>1467.500000</td>\n",
       "      <td>13</td>\n",
       "      <td>21.054566</td>\n",
       "    </tr>\n",
       "    <tr>\n",
       "      <th>518</th>\n",
       "      <td>P1</td>\n",
       "      <td>2015-06-30</td>\n",
       "      <td>1487.403889</td>\n",
       "      <td>18</td>\n",
       "      <td>10.004002</td>\n",
       "    </tr>\n",
       "  </tbody>\n",
       "</table>\n",
       "</div>"
      ],
      "text/plain": [
       "    prod_id  date_order        price  Y_test     Y_pred\n",
       "4        P1  2015-05-10  1449.000000      10  12.715567\n",
       "76       P1  2015-10-12  1499.000000       9  20.642432\n",
       "163      P1  2015-09-16  1489.006667      15  16.869822\n",
       "186      P1  2015-03-26  1499.000000       6  13.624283\n",
       "245      P1  2015-05-22  1392.584118      17  30.407509\n",
       "264      P1  2015-04-11  1399.000000      20  27.175205\n",
       "292      P1  2015-06-06  1471.744667      15   7.491392\n",
       "368      P1  2015-08-06  1482.706522      23  25.271240\n",
       "429      P1  2015-03-24  1467.500000      13  21.054566\n",
       "518      P1  2015-06-30  1487.403889      18  10.004002"
      ]
     },
     "execution_count": 25,
     "metadata": {},
     "output_type": "execute_result"
    }
   ],
   "source": [
    "ans_df[['prod_id','date_order','price','Y_test','Y_pred']].head(10)"
   ]
  },
  {
   "cell_type": "markdown",
   "metadata": {
    "collapsed": false
   },
   "source": [
    "### P2"
   ]
  },
  {
   "cell_type": "code",
   "execution_count": 9,
   "metadata": {
    "collapsed": false
   },
   "outputs": [
    {
     "name": "stdout",
     "output_type": "stream",
     "text": [
      "Index([u'price', u'day_week', u'month', u'C1', u'C2', u'C3', u'C4', u'C5',\n",
      "       u'C6'],\n",
      "      dtype='object')\n",
      "MSE: 42296.6945\n"
     ]
    },
    {
     "name": "stderr",
     "output_type": "stream",
     "text": [
      "/usr/local/lib/python2.7/site-packages/ipykernel/__main__.py:39: SettingWithCopyWarning: \n",
      "A value is trying to be set on a copy of a slice from a DataFrame\n",
      "\n",
      "See the the caveats in the documentation: http://pandas.pydata.org/pandas-docs/stable/indexing.html#indexing-view-versus-copy\n"
     ]
    },
    {
     "data": {
      "image/png": "[encoded data removed]",
      "text/plain": [
       "<matplotlib.figure.Figure at 0x1139dfc90>"
      ]
     },
     "metadata": {},
     "output_type": "display_data"
    }
   ],
   "source": [
    "my_product = 'P2'\n",
    "competitors = ['C1','C2','C3','C4','C5','C6']\n",
    "\n",
    "# Creating a Gradient Boosting Object with the dataframe and a given product\n",
    "gb = GBM(df, my_product) \n",
    "gb.prepare_data()\n",
    "\n",
    "# Removing rows where there is no price for any competitor\n",
    "gb.rem_rows_comp_NA(competitors)\n",
    "for comp in competitors:\n",
    "    gb.fill_comp_price_NA(comp,competitors)\n",
    "\n",
    "# Creating a training and a test set to evaluate model later\n",
    "gb.make_train_test()\n",
    "gb.select_X_Y(Y = 'qty_order', X_drop = ['prod_id','revenue','date_order'])\n",
    "\n",
    "# Fit Model\n",
    "params = {'n_estimators': 1000, 'max_depth': 2, 'max_features': 'sqrt', 'random_state': 5}\n",
    "gb.fit_gb(params)\n",
    "\n",
    "# Predict\n",
    "gb.predict_test()\n",
    "\n",
    "# Writing the results to output folder\n",
    "d = {'price': gb.X_test['price'], 'Y_test': gb.Y_test, 'Y_pred': gb.Y_pred}\n",
    "ans_df = pd.DataFrame(data=d)\n",
    "ans_df.to_csv(output_path + my_product + '.csv')\n",
    "\n",
    "# Plot feature importance\n",
    "gb.plot_feature_importance(gb.n_regressors)"
   ]
  },
  {
   "cell_type": "markdown",
   "metadata": {},
   "source": [
    "### P3"
   ]
  },
  {
   "cell_type": "code",
   "execution_count": 10,
   "metadata": {
    "collapsed": false
   },
   "outputs": [
    {
     "name": "stdout",
     "output_type": "stream",
     "text": [
      "Index([u'price', u'day_week', u'month', u'C1', u'C2', u'C3', u'C4', u'C5',\n",
      "       u'C6'],\n",
      "      dtype='object')\n",
      "MSE: 29.5137\n"
     ]
    },
    {
     "name": "stderr",
     "output_type": "stream",
     "text": [
      "/usr/local/lib/python2.7/site-packages/ipykernel/__main__.py:39: SettingWithCopyWarning: \n",
      "A value is trying to be set on a copy of a slice from a DataFrame\n",
      "\n",
      "See the the caveats in the documentation: http://pandas.pydata.org/pandas-docs/stable/indexing.html#indexing-view-versus-copy\n"
     ]
    },
    {
     "data": {
      "image/png": "[encoded data removed]",
      "text/plain": [
       "<matplotlib.figure.Figure at 0x113d63590>"
      ]
     },
     "metadata": {},
     "output_type": "display_data"
    }
   ],
   "source": [
    "my_product = 'P3'\n",
    "competitors = ['C1','C2','C3','C4','C5','C6']\n",
    "\n",
    "# Creating a Gradient Boosting Object with the dataframe and a given product\n",
    "gb = GBM(df, my_product) \n",
    "gb.prepare_data()\n",
    "\n",
    "# Removing rows where there is no price for any competitor\n",
    "gb.rem_rows_comp_NA(competitors)\n",
    "for comp in competitors:\n",
    "    gb.fill_comp_price_NA(comp,competitors)\n",
    "\n",
    "# Creating a training and a test set to evaluate model later\n",
    "gb.make_train_test()\n",
    "gb.select_X_Y(Y = 'qty_order', X_drop = ['prod_id','revenue','date_order'])\n",
    "\n",
    "# Fit Model\n",
    "params = {'n_estimators': 1000, 'max_depth': 2, 'max_features': 'sqrt', 'random_state': 5}\n",
    "gb.fit_gb(params)\n",
    "\n",
    "# Predict\n",
    "gb.predict_test()\n",
    "\n",
    "# Writing the results to output folder\n",
    "d = {'price': gb.X_test['price'], 'Y_test': gb.Y_test, 'Y_pred': gb.Y_pred}\n",
    "ans_df = pd.DataFrame(data=d)\n",
    "ans_df.to_csv(output_path + my_product + '.csv')\n",
    "\n",
    "# Plot feature importance\n",
    "gb.plot_feature_importance(gb.n_regressors)"
   ]
  },
  {
   "cell_type": "code",
   "execution_count": null,
   "metadata": {
    "collapsed": true
   },
   "outputs": [],
   "source": []
  },
  {
   "cell_type": "code",
   "execution_count": null,
   "metadata": {
    "collapsed": false
   },
   "outputs": [],
   "source": []
  },
  {
   "cell_type": "code",
   "execution_count": null,
   "metadata": {
    "collapsed": false
   },
   "outputs": [],
   "source": []
  },
  {
   "cell_type": "code",
   "execution_count": null,
   "metadata": {
    "collapsed": false
   },
   "outputs": [],
   "source": []
  },
  {
   "cell_type": "code",
   "execution_count": null,
   "metadata": {
    "collapsed": false
   },
   "outputs": [],
   "source": []
  },
  {
   "cell_type": "code",
   "execution_count": null,
   "metadata": {
    "collapsed": false
   },
   "outputs": [],
   "source": []
  },
  {
   "cell_type": "code",
   "execution_count": null,
   "metadata": {
    "collapsed": false
   },
   "outputs": [],
   "source": []
  },
  {
   "cell_type": "code",
   "execution_count": null,
   "metadata": {
    "collapsed": false
   },
   "outputs": [],
   "source": []
  },
  {
   "cell_type": "code",
   "execution_count": null,
   "metadata": {
    "collapsed": true
   },
   "outputs": [],
   "source": []
  },
  {
   "cell_type": "code",
   "execution_count": null,
   "metadata": {
    "collapsed": true
   },
   "outputs": [],
   "source": []
  },
  {
   "cell_type": "code",
   "execution_count": null,
   "metadata": {
    "collapsed": true
   },
   "outputs": [],
   "source": []
  },
  {
   "cell_type": "code",
   "execution_count": null,
   "metadata": {
    "collapsed": true
   },
   "outputs": [],
   "source": []
  },
  {
   "cell_type": "code",
   "execution_count": null,
   "metadata": {
    "collapsed": true
   },
   "outputs": [],
   "source": []
  },
  {
   "cell_type": "code",
   "execution_count": null,
   "metadata": {
    "collapsed": true
   },
   "outputs": [],
   "source": []
  },
  {
   "cell_type": "code",
   "execution_count": null,
   "metadata": {
    "collapsed": true
   },
   "outputs": [],
   "source": []
  }
 ],
 "metadata": {
  "kernelspec": {
   "display_name": "Python 2",
   "language": "python",
   "name": "python2"
  },
  "language_info": {
   "codemirror_mode": {
    "name": "ipython",
    "version": 2
   },
   "file_extension": ".py",
   "mimetype": "text/x-python",
   "name": "python",
   "nbconvert_exporter": "python",
   "pygments_lexer": "ipython2",
   "version": "2.7.10"
  }
 },
 "nbformat": 4,
 "nbformat_minor": 0
}
