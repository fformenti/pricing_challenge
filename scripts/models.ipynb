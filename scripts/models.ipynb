{
 "cells": [
  {
   "cell_type": "code",
   "execution_count": 1,
   "metadata": {
    "collapsed": true
   },
   "outputs": [],
   "source": [
    "import sys\n",
    "import psycopg2\n",
    "import pandas.io.sql as psql\n",
    "import pandas as pd\n",
    "import numpy as np\n",
    "import matplotlib.pyplot as plt\n",
    "\n",
    "from sklearn.ensemble import GradientBoostingRegressor\n",
    "from sklearn import linear_model\n",
    "from sklearn import preprocessing\n",
    "from sklearn.preprocessing import Imputer\n",
    "from sklearn.metrics import mean_squared_error\n",
    "\n",
    "import my_pass"
   ]
  },
  {
   "cell_type": "code",
   "execution_count": 2,
   "metadata": {
    "collapsed": true
   },
   "outputs": [],
   "source": [
    "def reading(host, DB, username, password):\n",
    "    conn_string = \"host=\" + host + \" dbname=\" + DB + \" user=\" + username + \" password=\" + password\n",
    "    # get connected to the database\n",
    "    connection = psycopg2.connect(conn_string)\n",
    "    query = \"SELECT * FROM b2w_schema.sales_agg;\"\n",
    "    sales = psql.read_sql(query, connection)\n",
    "    # Here I'm only selecting immeadiate pay\n",
    "    query = \"SELECT prod_id,date_order,competitor, min(competitor_price) as competitor_price\\\n",
    "            FROM b2w_schema.comp_prices \\\n",
    "            GROUP BY prod_id,date_order,competitor,pay_type \\\n",
    "            HAVING pay_type = 2;\"\n",
    "    price_im = psql.read_sql(query, connection)\n",
    "    return (sales,price_im)"
   ]
  },
  {
   "cell_type": "code",
   "execution_count": 3,
   "metadata": {
    "collapsed": true
   },
   "outputs": [],
   "source": [
    "class ml_models(object):\n",
    "\n",
    "    def __init__(self, data, product):\n",
    "        self.df = data\n",
    "        self.product = product\n",
    "\n",
    "    def prepare_data(self):\n",
    "        # selecting a specific product to analyse\n",
    "        self.df = self.df[self.df['prod_id'] == self.product]\n",
    "\n",
    "        # Remove columns that only have missing values\n",
    "        self.df = self.df.dropna(axis=1,how='all')\n",
    "\n",
    "        # Transforming categorical varibales into factors\n",
    "        le_day_week = preprocessing.LabelEncoder()\n",
    "        self.df['day_week'] = le_day_week.fit_transform(self.df['day_week'])\n",
    "        self.df['month'] = le_day_week.fit_transform(self.df['month'])\n",
    "\n",
    "    def impute_values(self, cols, strategy = 'mean', axis = 0):\n",
    "\n",
    "        imp = Imputer(missing_values='NaN', strategy = strategy, axis = axis)\n",
    "        imp.fit(self.df[cols])\n",
    "        self.df[cols] = imp.transform(self.df[cols])\n",
    "\n",
    "    def price_diff(self, comp_price = ['C1','C2','C3','C4','C5','C6']):\n",
    "        self.df['C1'] = self.df['price'] - self.df['C1']\n",
    "        self.df['C2'] = self.df['price'] - self.df['C2']\n",
    "        self.df['C3'] = self.df['price'] - self.df['C3']\n",
    "        self.df['C4'] = self.df['price'] - self.df['C4']\n",
    "        self.df['C5'] = self.df['price'] - self.df['C5']\n",
    "        self.df['C6'] = self.df['price'] - self.df['C6']\n",
    "\n",
    "    def make_train_test(self,frac = 0.8, random_state = 200):\n",
    "        # creating a training and test sets\n",
    "        self.df_train = self.df.sample(frac = frac, random_state = random_state)\n",
    "        self.df_test = self.df.drop(self.df_train.index)\n",
    "\n",
    "    def select_features(self, keep_feat = [], drop_feat = []):\n",
    "\n",
    "        # Isolate Response variable\n",
    "        self.Y_train, self.Y_test = self.df_train['qty_order'], self.df_test['qty_order']\n",
    "\n",
    "        # warning: drop_feat overrides keep_feat !!!\n",
    "        if drop_feat:\n",
    "            self.X_train = self.df_train.drop(drop_feat, axis=1, inplace=False)\n",
    "            self.X_test = self.df_test.drop(drop_feat, axis=1, inplace=False)\n",
    "        elif keep_feat:\n",
    "            self.X_train = self.df_train[keep_feat]\n",
    "            self.X_test = self.df_test[keep_feat]\n",
    "\n",
    "        # Remove Response variable from regressor set\n",
    "        self.X_train.drop('qty_order', axis=1, inplace=True)\n",
    "        self.X_test.drop('qty_order', axis=1, inplace=True)\n",
    "\n",
    "        # Total number of regressors\n",
    "        self.n_regressors = len(self.X_test.columns)\n",
    "\n",
    "    def predict_test(self, print_mse = True):\n",
    "        # Predict and update dataset\n",
    "        self.Y_pred = self.clf.predict(self.X_test)\n",
    "        mse = mean_squared_error(self.Y_test, self.Y_pred)\n",
    "        if print_mse:\n",
    "            print \"MSE: %.4f\" % mean_squared_error(self.Y_test, self.Y_pred)"
   ]
  },
  {
   "cell_type": "code",
   "execution_count": 4,
   "metadata": {
    "collapsed": true
   },
   "outputs": [],
   "source": [
    "class GBM(ml_models):\n",
    "    # Gradient Boosting\n",
    "    def __init__(self, data, product):\n",
    "        ml_models.__init__(self, data, product)\n",
    "\n",
    "    def fit_gb(self, params):\n",
    "        # Fit model\n",
    "        print self.X_train.columns\n",
    "        self.clf = GradientBoostingRegressor(**params)\n",
    "        self.clf.fit(self.X_train, self.Y_train)\n",
    "\n",
    "    def plot_feature_importance(self, n):\n",
    "        importances = self.clf.feature_importances_\n",
    "        feature_names = self.X_test.columns\n",
    "        indices = np.argsort(importances)[::-1][:n]\n",
    "        fig, ax = plt.subplots(1,1)\n",
    "        fig.set_size_inches(10,6)\n",
    "        plt.title(\"Feature importances\", fontsize = 16)\n",
    "        xlabels = [feature_names[int(i)] for i in indices]\n",
    "        plt.bar(range(n), importances[indices],\n",
    "                color=\"#799DBB\",  align=\"center\")\n",
    "        plt.grid()\n",
    "        plt.xticks(range(n), xlabels, rotation=90)\n",
    "        plt.xlim([-1, n])\n",
    "        plt.ylim([0, min(1, max(importances[indices]+0.0005))])\n",
    "        plt.xlabel('Features', fontsize = 14)\n",
    "        plt.ylabel('Feature Importance', fontsize = 14)\n",
    "        plt.title('Product '+  self.product +' Variable Importance')\n",
    "        plt.show()"
   ]
  },
  {
   "cell_type": "code",
   "execution_count": 5,
   "metadata": {
    "collapsed": true
   },
   "outputs": [],
   "source": [
    "class MLR(ml_models):\n",
    "    # Multiple linear regression\n",
    "    def __init__(self, data, product):\n",
    "        ml_models.__init__(self, data, product)\n",
    "\n",
    "    def fit_mlr(self):\n",
    "        # Fit model\n",
    "        self.clf = linear_model.LinearRegression(fit_intercept=False)\n",
    "        self.clf.fit(self.X_train, self.Y_train)\n",
    "        print self.clf.coef_"
   ]
  },
  {
   "cell_type": "markdown",
   "metadata": {},
   "source": [
    "# Analysis"
   ]
  },
  {
   "cell_type": "markdown",
   "metadata": {},
   "source": [
    "## Reading Data"
   ]
  },
  {
   "cell_type": "code",
   "execution_count": 6,
   "metadata": {
    "collapsed": true
   },
   "outputs": [],
   "source": [
    "# User inputs\n",
    "host = 'localhost'\n",
    "DB = 'postgres'\n",
    "username = my_pass.username\n",
    "password = my_pass.password\n",
    "\n",
    "# Reading tables\n",
    "sales, price_im = reading(host, DB, username, password)"
   ]
  },
  {
   "cell_type": "markdown",
   "metadata": {},
   "source": [
    "## Feature Engineering"
   ]
  },
  {
   "cell_type": "code",
   "execution_count": 19,
   "metadata": {
    "collapsed": true
   },
   "outputs": [],
   "source": [
    "# Reshaping the data to perform a join in order to get Competitor's Prices\n",
    "price_im_wide = pd.pivot_table(price_im, index = ['prod_id','date_order'], columns = ['competitor'], values = 'competitor_price')\n",
    "price_im_wide.reset_index(inplace = True)\n",
    "df = pd.merge(sales, price_im_wide, how='left', on=['prod_id','date_order'])\n",
    "\n",
    "# Reshaping the data to perform a join in order to get the Product's Prices\n",
    "day_price_prod_wide = pd.pivot_table(day_price_prod, index = ['date_order'], columns = ['prod_id'], values = 'price')\n",
    "day_price_prod_wide.reset_index(inplace = True)\n",
    "df = pd.merge(df, day_price_prod_wide, how='left', on=['date_order'])\n",
    "\n",
    "# Quantity sold from previous day\n",
    "df['qty_lag_1'] = df['qty_order'].shift(1)\n",
    "df.loc[0,('qty_lag_1')] = df.loc[1,('qty_lag_1')]\n",
    "\n",
    "# Cumsum of Past 3 days\n",
    "# To-do"
   ]
  },
  {
   "cell_type": "markdown",
   "metadata": {},
   "source": [
    "## Fitting Models"
   ]
  },
  {
   "cell_type": "code",
   "execution_count": 20,
   "metadata": {
    "collapsed": true
   },
   "outputs": [],
   "source": [
    "gb_p2 = GBM(df, 'P2') \n",
    "gb_p2.prepare_data() \n",
    "gb_p2.impute_values(cols = ['C1','C2','C3','C4','C5','C6'])\n",
    "gb_p2.price_diff()\n",
    "gb_p2.make_train_test()"
   ]
  },
  {
   "cell_type": "code",
   "execution_count": 21,
   "metadata": {
    "collapsed": false
   },
   "outputs": [
    {
     "data": {
      "text/html": [
       "<div>\n",
       "<table border=\"1\" class=\"dataframe\">\n",
       "  <thead>\n",
       "    <tr style=\"text-align: right;\">\n",
       "      <th></th>\n",
       "      <th>prod_id</th>\n",
       "      <th>qty_order</th>\n",
       "      <th>revenue</th>\n",
       "      <th>price</th>\n",
       "      <th>date_order</th>\n",
       "      <th>day_week</th>\n",
       "      <th>month</th>\n",
       "      <th>C1</th>\n",
       "      <th>C2</th>\n",
       "      <th>C3</th>\n",
       "      <th>...</th>\n",
       "      <th>P1</th>\n",
       "      <th>P2</th>\n",
       "      <th>P3</th>\n",
       "      <th>P4</th>\n",
       "      <th>P5</th>\n",
       "      <th>P6</th>\n",
       "      <th>P7</th>\n",
       "      <th>P8</th>\n",
       "      <th>P9</th>\n",
       "      <th>qty_lag_1</th>\n",
       "    </tr>\n",
       "  </thead>\n",
       "  <tbody>\n",
       "    <tr>\n",
       "      <th>1120</th>\n",
       "      <td>P2</td>\n",
       "      <td>565</td>\n",
       "      <td>366733.52</td>\n",
       "      <td>649.085876</td>\n",
       "      <td>2015-07-30</td>\n",
       "      <td>4</td>\n",
       "      <td>6</td>\n",
       "      <td>-14.914124</td>\n",
       "      <td>64.175876</td>\n",
       "      <td>18.235876</td>\n",
       "      <td>...</td>\n",
       "      <td>1484.946875</td>\n",
       "      <td>649.085876</td>\n",
       "      <td>1170.650</td>\n",
       "      <td>540.55</td>\n",
       "      <td>932.326667</td>\n",
       "      <td>1708.582500</td>\n",
       "      <td>733.205388</td>\n",
       "      <td>415.089462</td>\n",
       "      <td>439.000000</td>\n",
       "      <td>19</td>\n",
       "    </tr>\n",
       "    <tr>\n",
       "      <th>793</th>\n",
       "      <td>P2</td>\n",
       "      <td>229</td>\n",
       "      <td>161808.24</td>\n",
       "      <td>706.586201</td>\n",
       "      <td>2015-04-22</td>\n",
       "      <td>6</td>\n",
       "      <td>3</td>\n",
       "      <td>77.486201</td>\n",
       "      <td>77.486201</td>\n",
       "      <td>7.586201</td>\n",
       "      <td>...</td>\n",
       "      <td>1421.736364</td>\n",
       "      <td>706.586201</td>\n",
       "      <td>1300.075</td>\n",
       "      <td>561.35</td>\n",
       "      <td>1130.756000</td>\n",
       "      <td>1782.798750</td>\n",
       "      <td>823.832817</td>\n",
       "      <td>490.962500</td>\n",
       "      <td>504.677000</td>\n",
       "      <td>734</td>\n",
       "    </tr>\n",
       "    <tr>\n",
       "      <th>2106</th>\n",
       "      <td>P2</td>\n",
       "      <td>79</td>\n",
       "      <td>59139.94</td>\n",
       "      <td>748.606835</td>\n",
       "      <td>2015-03-23</td>\n",
       "      <td>1</td>\n",
       "      <td>2</td>\n",
       "      <td>89.606835</td>\n",
       "      <td>89.606835</td>\n",
       "      <td>89.606835</td>\n",
       "      <td>...</td>\n",
       "      <td>1418.258333</td>\n",
       "      <td>748.606835</td>\n",
       "      <td>1426.500</td>\n",
       "      <td>NaN</td>\n",
       "      <td>NaN</td>\n",
       "      <td>1748.691538</td>\n",
       "      <td>846.550962</td>\n",
       "      <td>591.512500</td>\n",
       "      <td>581.885714</td>\n",
       "      <td>4</td>\n",
       "    </tr>\n",
       "    <tr>\n",
       "      <th>1973</th>\n",
       "      <td>P2</td>\n",
       "      <td>45</td>\n",
       "      <td>38892.19</td>\n",
       "      <td>864.270889</td>\n",
       "      <td>2015-02-13</td>\n",
       "      <td>0</td>\n",
       "      <td>1</td>\n",
       "      <td>65.270889</td>\n",
       "      <td>65.270889</td>\n",
       "      <td>86.270889</td>\n",
       "      <td>...</td>\n",
       "      <td>1474.007143</td>\n",
       "      <td>864.270889</td>\n",
       "      <td>1499.000</td>\n",
       "      <td>NaN</td>\n",
       "      <td>NaN</td>\n",
       "      <td>2439.000000</td>\n",
       "      <td>827.828393</td>\n",
       "      <td>NaN</td>\n",
       "      <td>NaN</td>\n",
       "      <td>90</td>\n",
       "    </tr>\n",
       "  </tbody>\n",
       "</table>\n",
       "<p>4 rows × 23 columns</p>\n",
       "</div>"
      ],
      "text/plain": [
       "     prod_id  qty_order    revenue       price  date_order  day_week  month  \\\n",
       "1120      P2        565  366733.52  649.085876  2015-07-30         4      6   \n",
       "793       P2        229  161808.24  706.586201  2015-04-22         6      3   \n",
       "2106      P2         79   59139.94  748.606835  2015-03-23         1      2   \n",
       "1973      P2         45   38892.19  864.270889  2015-02-13         0      1   \n",
       "\n",
       "             C1         C2         C3    ...               P1          P2  \\\n",
       "1120 -14.914124  64.175876  18.235876    ...      1484.946875  649.085876   \n",
       "793   77.486201  77.486201   7.586201    ...      1421.736364  706.586201   \n",
       "2106  89.606835  89.606835  89.606835    ...      1418.258333  748.606835   \n",
       "1973  65.270889  65.270889  86.270889    ...      1474.007143  864.270889   \n",
       "\n",
       "            P3      P4           P5           P6          P7          P8  \\\n",
       "1120  1170.650  540.55   932.326667  1708.582500  733.205388  415.089462   \n",
       "793   1300.075  561.35  1130.756000  1782.798750  823.832817  490.962500   \n",
       "2106  1426.500     NaN          NaN  1748.691538  846.550962  591.512500   \n",
       "1973  1499.000     NaN          NaN  2439.000000  827.828393         NaN   \n",
       "\n",
       "              P9  qty_lag_1  \n",
       "1120  439.000000         19  \n",
       "793   504.677000        734  \n",
       "2106  581.885714          4  \n",
       "1973         NaN         90  \n",
       "\n",
       "[4 rows x 23 columns]"
      ]
     },
     "execution_count": 21,
     "metadata": {},
     "output_type": "execute_result"
    }
   ],
   "source": [
    "gb_p2.df_train.head(4)"
   ]
  },
  {
   "cell_type": "code",
   "execution_count": 22,
   "metadata": {
    "collapsed": false
   },
   "outputs": [
    {
     "data": {
      "text/html": [
       "<div>\n",
       "<table border=\"1\" class=\"dataframe\">\n",
       "  <thead>\n",
       "    <tr style=\"text-align: right;\">\n",
       "      <th>competitor</th>\n",
       "      <th>prod_id</th>\n",
       "      <th>date_order</th>\n",
       "      <th>C1</th>\n",
       "      <th>C2</th>\n",
       "      <th>C3</th>\n",
       "      <th>C4</th>\n",
       "      <th>C5</th>\n",
       "      <th>C6</th>\n",
       "    </tr>\n",
       "  </thead>\n",
       "  <tbody>\n",
       "    <tr>\n",
       "      <th>0</th>\n",
       "      <td>P1</td>\n",
       "      <td>2015-03-15</td>\n",
       "      <td>NaN</td>\n",
       "      <td>NaN</td>\n",
       "      <td>NaN</td>\n",
       "      <td>NaN</td>\n",
       "      <td>1499.00</td>\n",
       "      <td>1499</td>\n",
       "    </tr>\n",
       "    <tr>\n",
       "      <th>1</th>\n",
       "      <td>P1</td>\n",
       "      <td>2015-03-16</td>\n",
       "      <td>NaN</td>\n",
       "      <td>1362.5</td>\n",
       "      <td>NaN</td>\n",
       "      <td>NaN</td>\n",
       "      <td>1424.05</td>\n",
       "      <td>1499</td>\n",
       "    </tr>\n",
       "    <tr>\n",
       "      <th>2</th>\n",
       "      <td>P1</td>\n",
       "      <td>2015-03-17</td>\n",
       "      <td>1362.5</td>\n",
       "      <td>1362.5</td>\n",
       "      <td>1362.5</td>\n",
       "      <td>NaN</td>\n",
       "      <td>1424.05</td>\n",
       "      <td>1499</td>\n",
       "    </tr>\n",
       "    <tr>\n",
       "      <th>3</th>\n",
       "      <td>P1</td>\n",
       "      <td>2015-03-18</td>\n",
       "      <td>1362.5</td>\n",
       "      <td>NaN</td>\n",
       "      <td>1362.5</td>\n",
       "      <td>NaN</td>\n",
       "      <td>1424.05</td>\n",
       "      <td>1499</td>\n",
       "    </tr>\n",
       "  </tbody>\n",
       "</table>\n",
       "</div>"
      ],
      "text/plain": [
       "competitor prod_id  date_order      C1      C2      C3  C4       C5    C6\n",
       "0               P1  2015-03-15     NaN     NaN     NaN NaN  1499.00  1499\n",
       "1               P1  2015-03-16     NaN  1362.5     NaN NaN  1424.05  1499\n",
       "2               P1  2015-03-17  1362.5  1362.5  1362.5 NaN  1424.05  1499\n",
       "3               P1  2015-03-18  1362.5     NaN  1362.5 NaN  1424.05  1499"
      ]
     },
     "execution_count": 22,
     "metadata": {},
     "output_type": "execute_result"
    }
   ],
   "source": [
    "price_im_wide.head(4)"
   ]
  },
  {
   "cell_type": "code",
   "execution_count": 25,
   "metadata": {
    "collapsed": false
   },
   "outputs": [
    {
     "data": {
      "text/html": [
       "<div>\n",
       "<table border=\"1\" class=\"dataframe\">\n",
       "  <thead>\n",
       "    <tr style=\"text-align: right;\">\n",
       "      <th>competitor</th>\n",
       "      <th>prod_id</th>\n",
       "      <th>date_order</th>\n",
       "      <th>C1</th>\n",
       "      <th>C2</th>\n",
       "      <th>C3</th>\n",
       "      <th>C4</th>\n",
       "      <th>C5</th>\n",
       "      <th>C6</th>\n",
       "    </tr>\n",
       "  </thead>\n",
       "  <tbody>\n",
       "    <tr>\n",
       "      <th>0</th>\n",
       "      <td>P1</td>\n",
       "      <td>2015-03-15</td>\n",
       "      <td>NaN</td>\n",
       "      <td>NaN</td>\n",
       "      <td>NaN</td>\n",
       "      <td>NaN</td>\n",
       "      <td>1499.00</td>\n",
       "      <td>1499</td>\n",
       "    </tr>\n",
       "    <tr>\n",
       "      <th>1</th>\n",
       "      <td>P1</td>\n",
       "      <td>2015-03-16</td>\n",
       "      <td>NaN</td>\n",
       "      <td>1362.5</td>\n",
       "      <td>NaN</td>\n",
       "      <td>NaN</td>\n",
       "      <td>1424.05</td>\n",
       "      <td>1499</td>\n",
       "    </tr>\n",
       "    <tr>\n",
       "      <th>2</th>\n",
       "      <td>P1</td>\n",
       "      <td>2015-03-17</td>\n",
       "      <td>1362.5</td>\n",
       "      <td>1362.5</td>\n",
       "      <td>1362.5</td>\n",
       "      <td>NaN</td>\n",
       "      <td>1424.05</td>\n",
       "      <td>1499</td>\n",
       "    </tr>\n",
       "    <tr>\n",
       "      <th>3</th>\n",
       "      <td>P1</td>\n",
       "      <td>2015-03-18</td>\n",
       "      <td>1362.5</td>\n",
       "      <td>NaN</td>\n",
       "      <td>1362.5</td>\n",
       "      <td>NaN</td>\n",
       "      <td>1424.05</td>\n",
       "      <td>1499</td>\n",
       "    </tr>\n",
       "  </tbody>\n",
       "</table>\n",
       "</div>"
      ],
      "text/plain": [
       "competitor prod_id  date_order      C1      C2      C3  C4       C5    C6\n",
       "0               P1  2015-03-15     NaN     NaN     NaN NaN  1499.00  1499\n",
       "1               P1  2015-03-16     NaN  1362.5     NaN NaN  1424.05  1499\n",
       "2               P1  2015-03-17  1362.5  1362.5  1362.5 NaN  1424.05  1499\n",
       "3               P1  2015-03-18  1362.5     NaN  1362.5 NaN  1424.05  1499"
      ]
     },
     "execution_count": 25,
     "metadata": {},
     "output_type": "execute_result"
    }
   ],
   "source": [
    "price_im_wide.sort(['prod_id', 'date_order'], ascending=[1, 1], inplace = True)\n",
    "price_im_wide.head(4)"
   ]
  },
  {
   "cell_type": "code",
   "execution_count": null,
   "metadata": {
    "collapsed": true
   },
   "outputs": [],
   "source": []
  },
  {
   "cell_type": "code",
   "execution_count": null,
   "metadata": {
    "collapsed": true
   },
   "outputs": [],
   "source": []
  },
  {
   "cell_type": "code",
   "execution_count": null,
   "metadata": {
    "collapsed": true
   },
   "outputs": [],
   "source": []
  },
  {
   "cell_type": "code",
   "execution_count": null,
   "metadata": {
    "collapsed": true
   },
   "outputs": [],
   "source": []
  },
  {
   "cell_type": "code",
   "execution_count": null,
   "metadata": {
    "collapsed": true
   },
   "outputs": [],
   "source": []
  },
  {
   "cell_type": "code",
   "execution_count": null,
   "metadata": {
    "collapsed": true
   },
   "outputs": [],
   "source": []
  },
  {
   "cell_type": "code",
   "execution_count": null,
   "metadata": {
    "collapsed": true
   },
   "outputs": [],
   "source": [
    "gb_p2.select_features(drop_feat = ['prod_id','revenue','date_order'])\n",
    "params = {'n_estimators': 1000, 'max_depth': 2, 'max_features': 'sqrt', 'random_state': 5}\n",
    "gb_p2.fit_gb(params)\n",
    "\n",
    "# Predict\n",
    "gb_p2.predict_test()\n",
    "d = {'price': gb_p2.X_test['price'], 'Y_test': gb_p2.Y_test, 'Y_pred': gb_p2.Y_pred}\n",
    "ans_df = pd.DataFrame(data=d)\n",
    "ans_df.head(10)"
   ]
  },
  {
   "cell_type": "code",
   "execution_count": null,
   "metadata": {
    "collapsed": true
   },
   "outputs": [],
   "source": []
  },
  {
   "cell_type": "code",
   "execution_count": null,
   "metadata": {
    "collapsed": true
   },
   "outputs": [],
   "source": []
  }
 ],
 "metadata": {
  "kernelspec": {
   "display_name": "Python 2",
   "language": "python",
   "name": "python2"
  },
  "language_info": {
   "codemirror_mode": {
    "name": "ipython",
    "version": 2
   },
   "file_extension": ".py",
   "mimetype": "text/x-python",
   "name": "python",
   "nbconvert_exporter": "python",
   "pygments_lexer": "ipython2",
   "version": "2.7.10"
  }
 },
 "nbformat": 4,
 "nbformat_minor": 0
}
