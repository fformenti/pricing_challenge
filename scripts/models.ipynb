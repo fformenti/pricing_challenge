{
 "cells": [
  {
   "cell_type": "code",
   "execution_count": 26,
   "metadata": {
    "collapsed": true
   },
   "outputs": [],
   "source": [
    "import sys\n",
    "import psycopg2\n",
    "import pandas.io.sql as psql\n",
    "import pandas as pd\n",
    "import numpy as np\n",
    "import matplotlib.pyplot as plt\n",
    "\n",
    "from sklearn.ensemble import GradientBoostingRegressor\n",
    "from sklearn import linear_model\n",
    "from sklearn import preprocessing\n",
    "from sklearn.preprocessing import Imputer\n",
    "from sklearn.metrics import mean_squared_error\n",
    "\n",
    "import my_pass\n",
    "%matplotlib inline"
   ]
  },
  {
   "cell_type": "code",
   "execution_count": 103,
   "metadata": {
    "collapsed": true
   },
   "outputs": [],
   "source": [
    "def reading(host, DB, username, password):\n",
    "    conn_string = \"host=\" + host + \" dbname=\" + DB + \" user=\" + username + \" password=\" + password\n",
    "    # get connected to the database\n",
    "    connection = psycopg2.connect(conn_string)\n",
    "    query = \"SELECT * FROM b2w_schema.sales_agg;\"\n",
    "    sales = psql.read_sql(query, connection)\n",
    "    # Here I'm only selecting immeadiate pay\n",
    "    query = \"SELECT prod_id,date_order,competitor, min(competitor_price) as competitor_price\\\n",
    "            FROM b2w_schema.comp_prices \\\n",
    "            GROUP BY prod_id,date_order,competitor,pay_type \\\n",
    "            HAVING pay_type = 2;\"\n",
    "    price_im = psql.read_sql(query, connection)\n",
    "    return (sales,price_im)"
   ]
  },
  {
   "cell_type": "code",
   "execution_count": 138,
   "metadata": {
    "collapsed": true
   },
   "outputs": [],
   "source": [
    "class ml_models(object):\n",
    "\n",
    "    def __init__(self, data, product):\n",
    "        self.df = data\n",
    "        self.product = product\n",
    "\n",
    "    def prepare_data(self):\n",
    "        # selecting a specific product to analyse\n",
    "        self.df = self.df[self.df['prod_id'] == self.product]\n",
    "\n",
    "        # Remove columns that only have missing values\n",
    "        self.df = self.df.dropna(axis=1,how='all')\n",
    "\n",
    "        # Transforming categorical varibales into factors\n",
    "        le_day_week = preprocessing.LabelEncoder()\n",
    "        self.df['day_week'] = le_day_week.fit_transform(self.df['day_week'])\n",
    "        self.df['month'] = le_day_week.fit_transform(self.df['month'])\n",
    "\n",
    "    def fill_comp_price_NA(self,col):\n",
    "        df = self.df[['price','C1','C2','C3','C4','C5','C6']]\n",
    "        df.drop(col, axis=1, inplace=False)\n",
    "        self.df.loc[:,('aux_col')] = df.mean(axis=1, skipna = True)\n",
    "        null_rows = self.df.loc[:,(col)].isnull()\n",
    "        self.df.loc[null_rows,(col)] = self.df.loc[null_rows,('aux_col')]\n",
    "        self.df.drop('aux_col', axis=1, inplace=True)\n",
    "    \n",
    "    def make_train_test(self,frac = 0.8, random_state = 200):\n",
    "        # creating a training and test sets\n",
    "        self.df_train = self.df.sample(frac = frac, random_state = random_state)\n",
    "        self.df_test = self.df.drop(self.df_train.index)\n",
    "        \n",
    "    def select_X_Y(self,Y, X_keep = [], X_drop = []):\n",
    "        \n",
    "        # Isolate Response variable\n",
    "        self.Y_train, self.Y_test = self.df_train[Y], self.df_test[Y]\n",
    "\n",
    "        # warning: drop_feat overrides keep_feat !!!\n",
    "        if X_drop:\n",
    "            self.X_train = self.df_train.drop(X_drop, axis=1, inplace=False)\n",
    "            self.X_test = self.df_test.drop(X_drop, axis=1, inplace=False)\n",
    "        elif X_keep:\n",
    "            self.X_train = self.df_train[X_keep]\n",
    "            self.X_test = self.df_test[X_keep]\n",
    "\n",
    "        # Remove Response variable from regressor set\n",
    "        self.X_train.drop(Y, axis=1, inplace=True)\n",
    "        self.X_test.drop(Y, axis=1, inplace=True)\n",
    "\n",
    "        # Total number of regressors\n",
    "        self.n_regressors = len(self.X_test.columns)\n",
    "\n",
    "    def predict_test(self, print_mse = True):\n",
    "        # Predict and update dataset\n",
    "        self.Y_pred = self.clf.predict(self.X_test)\n",
    "        mse = mean_squared_error(self.Y_test, self.Y_pred)\n",
    "        if print_mse:\n",
    "            print \"MSE: %.4f\" % mean_squared_error(self.Y_test, self.Y_pred)"
   ]
  },
  {
   "cell_type": "code",
   "execution_count": 139,
   "metadata": {
    "collapsed": true
   },
   "outputs": [],
   "source": [
    "class GBM(ml_models):\n",
    "    # Gradient Boosting\n",
    "    def __init__(self, data, product):\n",
    "        ml_models.__init__(self, data, product)\n",
    "\n",
    "    def fit_gb(self, params):\n",
    "        # Fit model\n",
    "        print self.X_train.columns\n",
    "        self.clf = GradientBoostingRegressor(**params)\n",
    "        self.clf.fit(self.X_train, self.Y_train)\n",
    "\n",
    "    def plot_feature_importance(self, n):\n",
    "        importances = self.clf.feature_importances_\n",
    "        feature_names = self.X_test.columns\n",
    "        indices = np.argsort(importances)[::-1][:n]\n",
    "        fig, ax = plt.subplots(1,1)\n",
    "        fig.set_size_inches(10,6)\n",
    "        plt.title(\"Feature importances\", fontsize = 16)\n",
    "        xlabels = [feature_names[int(i)] for i in indices]\n",
    "        plt.bar(range(n), importances[indices],\n",
    "                color=\"#799DBB\",  align=\"center\")\n",
    "        plt.grid()\n",
    "        plt.xticks(range(n), xlabels, rotation=90)\n",
    "        plt.xlim([-1, n])\n",
    "        plt.ylim([0, min(1, max(importances[indices]+0.0005))])\n",
    "        plt.xlabel('Features', fontsize = 14)\n",
    "        plt.ylabel('Feature Importance', fontsize = 14)\n",
    "        plt.title('Product '+  self.product +' Variable Importance')\n",
    "        plt.show()"
   ]
  },
  {
   "cell_type": "code",
   "execution_count": 140,
   "metadata": {
    "collapsed": true
   },
   "outputs": [],
   "source": [
    "class MLR(ml_models):\n",
    "    # Multiple linear regression\n",
    "    def __init__(self, data, product):\n",
    "        ml_models.__init__(self, data, product)\n",
    "\n",
    "    def fit_mlr(self):\n",
    "        # Fit model\n",
    "        self.clf = linear_model.LinearRegression(fit_intercept=False)\n",
    "        self.clf.fit(self.X_train, self.Y_train)\n",
    "        print self.clf.coef_"
   ]
  },
  {
   "cell_type": "markdown",
   "metadata": {},
   "source": [
    "# Analysis"
   ]
  },
  {
   "cell_type": "markdown",
   "metadata": {},
   "source": [
    "## Reading Data"
   ]
  },
  {
   "cell_type": "code",
   "execution_count": 141,
   "metadata": {
    "collapsed": true
   },
   "outputs": [],
   "source": [
    "# User inputs\n",
    "host = 'localhost'\n",
    "DB = 'postgres'\n",
    "username = my_pass.username\n",
    "password = my_pass.password\n",
    "\n",
    "# Reading tables\n",
    "sales, price_im = reading(host, DB, username, password)"
   ]
  },
  {
   "cell_type": "markdown",
   "metadata": {},
   "source": [
    "## Feature Engineering"
   ]
  },
  {
   "cell_type": "code",
   "execution_count": 187,
   "metadata": {
    "collapsed": true
   },
   "outputs": [],
   "source": [
    "# Reshaping the data to perform a join in order to get Competitor's Prices\n",
    "price_im_wide = pd.pivot_table(price_im, index = ['prod_id','date_order'], columns = ['competitor'], values = 'competitor_price')\n",
    "price_im_wide.reset_index(inplace = True)\n",
    "df = pd.merge(sales, price_im_wide, how='left', on=['prod_id','date_order'])\n",
    "\n",
    "# Reshaping the data to perform a join in order to get the Product's Prices\n",
    "day_price_prod_wide = pd.pivot_table(day_price_prod, index = ['date_order'], columns = ['prod_id'], values = 'price')\n",
    "day_price_prod_wide.reset_index(inplace = True)\n",
    "df = pd.merge(df, day_price_prod_wide, how='left', on=['date_order'])\n",
    "\n",
    "# Quantity sold from previous day\n",
    "df['qty_lag_1'] = df['qty_order'].shift(1)\n",
    "df.loc[0,('qty_lag_1')] = df.loc[1,('qty_lag_1')]\n",
    "\n",
    "# Cumsum of Past 3 days\n",
    "# To-do"
   ]
  },
  {
   "cell_type": "code",
   "execution_count": null,
   "metadata": {
    "collapsed": false
   },
   "outputs": [],
   "source": [
    "class Feature_engineering:\n",
    "    def __init__(self, path, n_rows):\n",
    "        self.df = self.load_data(path, n_rows)\n",
    "\n",
    "    def add_cumulative_return(self, cols, n_cum):\n",
    "        # Adds cumulative sales\n",
    "        for n in n_cum:\n",
    "            for variable in cols:\n",
    "                name = variable + '_cum_' + str(n)\n",
    "                if variable != 'S1':\n",
    "                    colnames = [variable + '_lag_' + str(x) for x in range(1,n)]\n",
    "                    colnames.append(variable)\n",
    "                else:\n",
    "                    colnames = [variable + '_lag_' + str(x) for x in range(1,n+1)]\n",
    "                self.df[name] = exp(self.df[colnames].sum(axis = 1))-1"
   ]
  },
  {
   "cell_type": "markdown",
   "metadata": {},
   "source": [
    "## Imputing Values"
   ]
  },
  {
   "cell_type": "code",
   "execution_count": 188,
   "metadata": {
    "collapsed": true
   },
   "outputs": [],
   "source": [
    "def fill_comp_price_NA(df1,col):\n",
    "    df1 = df1[['price','C1','C2','C3','C4','C5','C6']]\n",
    "    df1.drop(col, axis=1, inplace=False)\n",
    "    df2.loc[:,('aux_col')] = df1.mean(axis=1, skipna = True)\n",
    "    null_rows = df2.loc[:,(col)].isnull()\n",
    "    df2.loc[null_rows,(col)] = df2.loc[null_rows,('aux_col')]\n",
    "    return df2[col]"
   ]
  },
  {
   "cell_type": "code",
   "execution_count": 189,
   "metadata": {
    "collapsed": false
   },
   "outputs": [],
   "source": [
    "cols = ['C1','C2','C3','C4','C5','C6']\n",
    "for col in cols:\n",
    "    df[col] = fill_comp_price_NA(df,col)"
   ]
  },
  {
   "cell_type": "code",
   "execution_count": 190,
   "metadata": {
    "collapsed": true
   },
   "outputs": [],
   "source": [
    "def fill_prod_price_NA(df,col,min_value):\n",
    "    null_rows = df.loc[:,(col)].isnull()\n",
    "    df2.loc[null_rows,(col)] = min_value\n",
    "    return df2[col]"
   ]
  },
  {
   "cell_type": "code",
   "execution_count": 191,
   "metadata": {
    "collapsed": false
   },
   "outputs": [],
   "source": [
    "cols = ['P1','P2','P3','P4','P5','P6','P7','P8','P9']\n",
    "for col in cols:\n",
    "    min_value = df[col].min(axis = 0, skipna = True)\n",
    "    df[col] = fill_prod_price_NA(df,col,min_value)"
   ]
  },
  {
   "cell_type": "markdown",
   "metadata": {},
   "source": [
    "## Fitting Models"
   ]
  },
  {
   "cell_type": "code",
   "execution_count": 192,
   "metadata": {
    "collapsed": true
   },
   "outputs": [],
   "source": [
    "gb_p2 = GBM(df, 'P1') \n",
    "gb_p2.prepare_data() \n",
    "gb_p2.make_train_test()"
   ]
  },
  {
   "cell_type": "code",
   "execution_count": 193,
   "metadata": {
    "collapsed": false
   },
   "outputs": [
    {
     "data": {
      "text/html": [
       "<div>\n",
       "<table border=\"1\" class=\"dataframe\">\n",
       "  <thead>\n",
       "    <tr style=\"text-align: right;\">\n",
       "      <th></th>\n",
       "      <th>prod_id</th>\n",
       "      <th>qty_order</th>\n",
       "      <th>revenue</th>\n",
       "      <th>price</th>\n",
       "      <th>date_order</th>\n",
       "      <th>day_week</th>\n",
       "      <th>month</th>\n",
       "      <th>C1</th>\n",
       "      <th>C2</th>\n",
       "      <th>C3</th>\n",
       "      <th>...</th>\n",
       "      <th>C6</th>\n",
       "      <th>P1</th>\n",
       "      <th>P3</th>\n",
       "      <th>P4</th>\n",
       "      <th>P5</th>\n",
       "      <th>P6</th>\n",
       "      <th>P7</th>\n",
       "      <th>P8</th>\n",
       "      <th>P9</th>\n",
       "      <th>qty_lag_1</th>\n",
       "    </tr>\n",
       "  </thead>\n",
       "  <tbody>\n",
       "    <tr>\n",
       "      <th>1092</th>\n",
       "      <td>P1</td>\n",
       "      <td>5</td>\n",
       "      <td>7495.00</td>\n",
       "      <td>1499.000</td>\n",
       "      <td>2015-08-28</td>\n",
       "      <td>0</td>\n",
       "      <td>6</td>\n",
       "      <td>1319.12</td>\n",
       "      <td>1319.12</td>\n",
       "      <td>1319.1200</td>\n",
       "      <td>...</td>\n",
       "      <td>1376.0820</td>\n",
       "      <td>1325.067654</td>\n",
       "      <td>1057.695652</td>\n",
       "      <td>421.234305</td>\n",
       "      <td>709.862283</td>\n",
       "      <td>1388.826562</td>\n",
       "      <td>681.916511</td>\n",
       "      <td>370.819467</td>\n",
       "      <td>370.300191</td>\n",
       "      <td>912</td>\n",
       "    </tr>\n",
       "    <tr>\n",
       "      <th>233</th>\n",
       "      <td>P1</td>\n",
       "      <td>5</td>\n",
       "      <td>7395.00</td>\n",
       "      <td>1479.000</td>\n",
       "      <td>2015-02-25</td>\n",
       "      <td>6</td>\n",
       "      <td>0</td>\n",
       "      <td>1479.00</td>\n",
       "      <td>1479.00</td>\n",
       "      <td>1479.0000</td>\n",
       "      <td>...</td>\n",
       "      <td>1479.0000</td>\n",
       "      <td>1325.067654</td>\n",
       "      <td>1057.695652</td>\n",
       "      <td>421.234305</td>\n",
       "      <td>709.862283</td>\n",
       "      <td>1388.826562</td>\n",
       "      <td>681.916511</td>\n",
       "      <td>370.819467</td>\n",
       "      <td>370.300191</td>\n",
       "      <td>23</td>\n",
       "    </tr>\n",
       "    <tr>\n",
       "      <th>1116</th>\n",
       "      <td>P1</td>\n",
       "      <td>10</td>\n",
       "      <td>14981.17</td>\n",
       "      <td>1498.117</td>\n",
       "      <td>2015-06-17</td>\n",
       "      <td>6</td>\n",
       "      <td>4</td>\n",
       "      <td>1090.00</td>\n",
       "      <td>1099.00</td>\n",
       "      <td>1099.0000</td>\n",
       "      <td>...</td>\n",
       "      <td>1242.0334</td>\n",
       "      <td>1325.067654</td>\n",
       "      <td>1057.695652</td>\n",
       "      <td>421.234305</td>\n",
       "      <td>709.862283</td>\n",
       "      <td>1388.826562</td>\n",
       "      <td>681.916511</td>\n",
       "      <td>370.819467</td>\n",
       "      <td>370.300191</td>\n",
       "      <td>31</td>\n",
       "    </tr>\n",
       "    <tr>\n",
       "      <th>597</th>\n",
       "      <td>P1</td>\n",
       "      <td>5</td>\n",
       "      <td>6895.40</td>\n",
       "      <td>1379.080</td>\n",
       "      <td>2015-08-25</td>\n",
       "      <td>5</td>\n",
       "      <td>6</td>\n",
       "      <td>1499.00</td>\n",
       "      <td>1499.00</td>\n",
       "      <td>1450.2825</td>\n",
       "      <td>...</td>\n",
       "      <td>1450.2825</td>\n",
       "      <td>1325.067654</td>\n",
       "      <td>1057.695652</td>\n",
       "      <td>421.234305</td>\n",
       "      <td>709.862283</td>\n",
       "      <td>1388.826562</td>\n",
       "      <td>681.916511</td>\n",
       "      <td>370.819467</td>\n",
       "      <td>370.300191</td>\n",
       "      <td>7</td>\n",
       "    </tr>\n",
       "  </tbody>\n",
       "</table>\n",
       "<p>4 rows × 22 columns</p>\n",
       "</div>"
      ],
      "text/plain": [
       "     prod_id  qty_order   revenue     price  date_order  day_week  month  \\\n",
       "1092      P1          5   7495.00  1499.000  2015-08-28         0      6   \n",
       "233       P1          5   7395.00  1479.000  2015-02-25         6      0   \n",
       "1116      P1         10  14981.17  1498.117  2015-06-17         6      4   \n",
       "597       P1          5   6895.40  1379.080  2015-08-25         5      6   \n",
       "\n",
       "           C1       C2         C3    ...             C6           P1  \\\n",
       "1092  1319.12  1319.12  1319.1200    ...      1376.0820  1325.067654   \n",
       "233   1479.00  1479.00  1479.0000    ...      1479.0000  1325.067654   \n",
       "1116  1090.00  1099.00  1099.0000    ...      1242.0334  1325.067654   \n",
       "597   1499.00  1499.00  1450.2825    ...      1450.2825  1325.067654   \n",
       "\n",
       "               P3          P4          P5           P6          P7  \\\n",
       "1092  1057.695652  421.234305  709.862283  1388.826562  681.916511   \n",
       "233   1057.695652  421.234305  709.862283  1388.826562  681.916511   \n",
       "1116  1057.695652  421.234305  709.862283  1388.826562  681.916511   \n",
       "597   1057.695652  421.234305  709.862283  1388.826562  681.916511   \n",
       "\n",
       "              P8          P9  qty_lag_1  \n",
       "1092  370.819467  370.300191        912  \n",
       "233   370.819467  370.300191         23  \n",
       "1116  370.819467  370.300191         31  \n",
       "597   370.819467  370.300191          7  \n",
       "\n",
       "[4 rows x 22 columns]"
      ]
     },
     "execution_count": 193,
     "metadata": {},
     "output_type": "execute_result"
    }
   ],
   "source": [
    "gb_p2.df_train.head(4)"
   ]
  },
  {
   "cell_type": "code",
   "execution_count": 194,
   "metadata": {
    "collapsed": false
   },
   "outputs": [],
   "source": [
    "gb_p2.select_X_Y(Y = 'qty_order', X_drop = ['prod_id','revenue','date_order'])"
   ]
  },
  {
   "cell_type": "code",
   "execution_count": 195,
   "metadata": {
    "collapsed": false
   },
   "outputs": [
    {
     "name": "stdout",
     "output_type": "stream",
     "text": [
      "Index([u'price', u'day_week', u'month', u'C1', u'C2', u'C3', u'C4', u'C5',\n",
      "       u'C6', u'P1', u'P3', u'P4', u'P5', u'P6', u'P7', u'P8', u'P9',\n",
      "       u'qty_lag_1'],\n",
      "      dtype='object')\n"
     ]
    }
   ],
   "source": [
    "# Fit\n",
    "params = {'n_estimators': 1000, 'max_depth': 2, 'max_features': 'sqrt', 'random_state': 5}\n",
    "gb_p2.fit_gb(params)"
   ]
  },
  {
   "cell_type": "code",
   "execution_count": 196,
   "metadata": {
    "collapsed": false
   },
   "outputs": [
    {
     "name": "stdout",
     "output_type": "stream",
     "text": [
      "MSE: 176.2867\n"
     ]
    },
    {
     "data": {
      "text/html": [
       "<div>\n",
       "<table border=\"1\" class=\"dataframe\">\n",
       "  <thead>\n",
       "    <tr style=\"text-align: right;\">\n",
       "      <th></th>\n",
       "      <th>Y_pred</th>\n",
       "      <th>Y_test</th>\n",
       "      <th>price</th>\n",
       "    </tr>\n",
       "  </thead>\n",
       "  <tbody>\n",
       "    <tr>\n",
       "      <th>4</th>\n",
       "      <td>15.925959</td>\n",
       "      <td>10</td>\n",
       "      <td>1449.000000</td>\n",
       "    </tr>\n",
       "    <tr>\n",
       "      <th>76</th>\n",
       "      <td>23.655520</td>\n",
       "      <td>9</td>\n",
       "      <td>1499.000000</td>\n",
       "    </tr>\n",
       "    <tr>\n",
       "      <th>138</th>\n",
       "      <td>28.182402</td>\n",
       "      <td>19</td>\n",
       "      <td>1431.897368</td>\n",
       "    </tr>\n",
       "    <tr>\n",
       "      <th>172</th>\n",
       "      <td>17.519201</td>\n",
       "      <td>9</td>\n",
       "      <td>1487.888889</td>\n",
       "    </tr>\n",
       "    <tr>\n",
       "      <th>204</th>\n",
       "      <td>13.189800</td>\n",
       "      <td>11</td>\n",
       "      <td>1465.263636</td>\n",
       "    </tr>\n",
       "    <tr>\n",
       "      <th>242</th>\n",
       "      <td>6.721759</td>\n",
       "      <td>7</td>\n",
       "      <td>1499.000000</td>\n",
       "    </tr>\n",
       "    <tr>\n",
       "      <th>245</th>\n",
       "      <td>36.748815</td>\n",
       "      <td>17</td>\n",
       "      <td>1392.584118</td>\n",
       "    </tr>\n",
       "    <tr>\n",
       "      <th>297</th>\n",
       "      <td>16.292059</td>\n",
       "      <td>21</td>\n",
       "      <td>1381.361905</td>\n",
       "    </tr>\n",
       "    <tr>\n",
       "      <th>356</th>\n",
       "      <td>2.994342</td>\n",
       "      <td>2</td>\n",
       "      <td>1499.000000</td>\n",
       "    </tr>\n",
       "    <tr>\n",
       "      <th>429</th>\n",
       "      <td>8.921213</td>\n",
       "      <td>13</td>\n",
       "      <td>1467.500000</td>\n",
       "    </tr>\n",
       "  </tbody>\n",
       "</table>\n",
       "</div>"
      ],
      "text/plain": [
       "        Y_pred  Y_test        price\n",
       "4    15.925959      10  1449.000000\n",
       "76   23.655520       9  1499.000000\n",
       "138  28.182402      19  1431.897368\n",
       "172  17.519201       9  1487.888889\n",
       "204  13.189800      11  1465.263636\n",
       "242   6.721759       7  1499.000000\n",
       "245  36.748815      17  1392.584118\n",
       "297  16.292059      21  1381.361905\n",
       "356   2.994342       2  1499.000000\n",
       "429   8.921213      13  1467.500000"
      ]
     },
     "execution_count": 196,
     "metadata": {},
     "output_type": "execute_result"
    }
   ],
   "source": [
    "# Predict\n",
    "gb_p2.predict_test()\n",
    "d = {'price': gb_p2.X_test['price'], 'Y_test': gb_p2.Y_test, 'Y_pred': gb_p2.Y_pred}\n",
    "ans_df = pd.DataFrame(data=d)\n",
    "ans_df.head(10)"
   ]
  },
  {
   "cell_type": "code",
   "execution_count": 197,
   "metadata": {
    "collapsed": false
   },
   "outputs": [
    {
     "data": {
      "image/png": "[encoded data removed]",
      "text/plain": [
       "<matplotlib.figure.Figure at 0x109dcd3d0>"
      ]
     },
     "metadata": {},
     "output_type": "display_data"
    }
   ],
   "source": [
    "# Plot feature importance\n",
    "gb_p2.plot_feature_importance(gb_p2.n_regressors)"
   ]
  },
  {
   "cell_type": "code",
   "execution_count": null,
   "metadata": {
    "collapsed": true
   },
   "outputs": [],
   "source": []
  },
  {
   "cell_type": "code",
   "execution_count": null,
   "metadata": {
    "collapsed": true
   },
   "outputs": [],
   "source": []
  },
  {
   "cell_type": "code",
   "execution_count": null,
   "metadata": {
    "collapsed": true
   },
   "outputs": [],
   "source": []
  },
  {
   "cell_type": "code",
   "execution_count": null,
   "metadata": {
    "collapsed": true
   },
   "outputs": [],
   "source": []
  },
  {
   "cell_type": "code",
   "execution_count": null,
   "metadata": {
    "collapsed": true
   },
   "outputs": [],
   "source": []
  },
  {
   "cell_type": "code",
   "execution_count": null,
   "metadata": {
    "collapsed": true
   },
   "outputs": [],
   "source": []
  },
  {
   "cell_type": "code",
   "execution_count": null,
   "metadata": {
    "collapsed": true
   },
   "outputs": [],
   "source": []
  }
 ],
 "metadata": {
  "kernelspec": {
   "display_name": "Python 2",
   "language": "python",
   "name": "python2"
  },
  "language_info": {
   "codemirror_mode": {
    "name": "ipython",
    "version": 2
   },
   "file_extension": ".py",
   "mimetype": "text/x-python",
   "name": "python",
   "nbconvert_exporter": "python",
   "pygments_lexer": "ipython2",
   "version": "2.7.10"
  }
 },
 "nbformat": 4,
 "nbformat_minor": 0
}
