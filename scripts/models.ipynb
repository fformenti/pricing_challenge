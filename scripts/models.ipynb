{
 "cells": [
  {
   "cell_type": "code",
   "execution_count": 21,
   "metadata": {
    "collapsed": true
   },
   "outputs": [],
   "source": [
    "import sys\n",
    "import psycopg2\n",
    "import pandas.io.sql as psql\n",
    "import pandas as pd\n",
    "import numpy as np\n",
    "import matplotlib.pyplot as plt\n",
    "\n",
    "from sklearn.ensemble import GradientBoostingRegressor\n",
    "from sklearn import linear_model\n",
    "from sklearn import preprocessing\n",
    "\n",
    "from sklearn import cross_validation, metrics   #Additional scklearn functions\n",
    "from sklearn.grid_search import GridSearchCV   #Perforing grid search\n",
    "\n",
    "import my_pass\n",
    "%matplotlib inline "
   ]
  },
  {
   "cell_type": "code",
   "execution_count": 22,
   "metadata": {
    "collapsed": true
   },
   "outputs": [],
   "source": [
    "def reading(host, DB, username, password):\n",
    "    conn_string = \"host=\" + host + \" dbname=\" + DB + \" user=\" + username + \" password=\" + password\n",
    "    # get connected to the database\n",
    "    connection = psycopg2.connect(conn_string)\n",
    "    query = \"SELECT * FROM b2w_schema.sales_agg;\"\n",
    "    sales = psql.read_sql(query, connection)\n",
    "    # Here I'm only selecting immeadiate pay\n",
    "    query = \"SELECT prod_id,date_order,competitor, min(competitor_price) as competitor_price \\\n",
    "    FROM b2w_schema.comp_prices  \\\n",
    "    GROUP BY prod_id,date_order,competitor,pay_type \\\n",
    "    HAVING pay_type = 2;\"\n",
    "    price_im = psql.read_sql(query, connection)\n",
    "    return (sales,price_im)\n",
    "\n",
    "\n",
    "class ml_models(object):\n",
    "\n",
    "    def __init__(self, data, product, name):\n",
    "        self.df = data\n",
    "        self.product = product\n",
    "        self.name = name\n",
    "\n",
    "    def qty_lag(self):\n",
    "        self.df.sort(['date_order'], ascending=[1], inplace = True)\n",
    "        self.df['qty_lag_1'] = self.df['qty_order'].shift(1)\n",
    "        self.df.loc[0,('qty_lag_1')] = self.df.loc[1,('qty_lag_1')]\n",
    "        \n",
    "    def prepare_data(self):\n",
    "        # selecting a specific product to analyse\n",
    "        self.df = self.df[self.df['prod_id'] == self.product]\n",
    "\n",
    "        # Remove columns that only have missing values\n",
    "        self.df = self.df.dropna(axis=1,how='all')\n",
    "\n",
    "        # Transforming categorical varibales into factors\n",
    "        le_day_week = preprocessing.LabelEncoder()\n",
    "        self.df['day_week'] = le_day_week.fit_transform(self.df['day_week'])\n",
    "        self.df['month'] = le_day_week.fit_transform(self.df['month'])\n",
    "        \n",
    "        # Creating a lag1 of quantity sold\n",
    "        self.qty_lag()\n",
    "\n",
    "    def rem_rows_comp_NA(self, cols):\n",
    "        na_rows = self.df[cols].isnull().sum(axis=1)\n",
    "        self.df = self.df.ix[na_rows != len(cols)]\n",
    "        \n",
    "    def fill_comp_price_NA(self, competitors):\n",
    "        for comp in competitors:\n",
    "            df = self.df[competitors]\n",
    "            df.drop(comp, axis=1, inplace=True)\n",
    "            self.df.loc[:,('aux_col')] = df.mean(axis=1, skipna = True)\n",
    "            null_rows = self.df.loc[:,(comp)].isnull()\n",
    "            self.df.loc[null_rows,(comp)] = self.df.loc[null_rows,('aux_col')]\n",
    "            self.df.drop('aux_col', axis=1, inplace=True)\n",
    "    \n",
    "    def fill_prod_price_NA(self,col):\n",
    "        min_value = df[col].min(axis = 0, skipna = True)\n",
    "        null_rows = self.df.loc[:,(col)].isnull()\n",
    "        self.df.loc[null_rows,(col)] = min_value\n",
    "        \n",
    "    \n",
    "    def make_train_test(self,frac = 0.8, random_state = 200):\n",
    "        # creating a training and test sets\n",
    "        self.df_train = self.df.sample(frac = frac, random_state = random_state)\n",
    "        self.df_test = self.df.drop(self.df_train.index)\n",
    "        \n",
    "    def select_X_Y(self,Y, X_keep = [], X_drop = []):\n",
    "        \n",
    "        # Isolate Response variable\n",
    "        self.Y_train, self.Y_test = self.df_train[Y], self.df_test[Y]\n",
    "\n",
    "        # warning: drop_feat overrides keep_feat !!!\n",
    "        if X_drop:\n",
    "            self.X_train = self.df_train.drop(X_drop, axis=1, inplace=False)\n",
    "            self.X_test = self.df_test.drop(X_drop, axis=1, inplace=False)\n",
    "            # Remove Response variable from regressor set\n",
    "            self.X_train.drop(Y, axis=1, inplace=True)\n",
    "            self.X_test.drop(Y, axis=1, inplace=True)\n",
    "        elif X_keep:\n",
    "            self.X_train = self.df_train[X_keep]\n",
    "            self.X_test = self.df_test[X_keep]\n",
    "\n",
    "        # Total number of regressors\n",
    "        self.n_regressors = len(self.X_test.columns)\n",
    "\n",
    "    def predict_test(self, print_results = True):\n",
    "        # Predict and update dataset\n",
    "        self.Y_pred = self.clf.predict(self.X_test)\n",
    "        self.mse = metrics.mean_squared_error(self.Y_test, self.Y_pred)\n",
    "        self.mae = metrics.mean_absolute_error(self.Y_test, self.Y_pred)\n",
    "\n",
    "    def print_metrics(self, regression_metrics = True):\n",
    "        print 'Model: ', self.name\n",
    "        if regression_metrics:\n",
    "            print \"MAE: %.4f\" % self.mae\n",
    "            print \"MSE: %.4f\" % self.mse\n",
    "\n",
    "    def merge_result(self):\n",
    "        d = {'Y_test': self.Y_test, 'Y_pred': self.Y_pred}\n",
    "        df = pd.DataFrame(data=d)\n",
    "        self.df_test = pd.merge(self.df_test, df, how='left', left_index = True, right_index = True)\n",
    "\n",
    "    def write_model_results(self, output_path):\n",
    "        # Writing the results to output folder\n",
    "        self.df_test.to_csv(output_path + self.product + '_' + self.name  + '.csv',index = False)\n",
    "\n",
    "class GBM(ml_models):\n",
    "    # Gradient Boosting Regression\n",
    "    def __init__(self, data, product):\n",
    "        ml_models.__init__(self, data, product, name = \"GBR\")\n",
    "\n",
    "    def grid_search(self, params):\n",
    "        # Finding best parameters\n",
    "        gsearch = GridSearchCV(estimator = GradientBoostingRegressor(learning_rate=0.1, \\\n",
    "            min_samples_split=500,min_samples_leaf=50,max_depth=8,max_features='sqrt',\\\n",
    "            subsample=0.8,random_state=5), param_grid = params, n_jobs=4,iid=False, cv=5)\n",
    "        gsearch.fit(self.X_train, self.Y_train)\n",
    "        self.grid_scores, self.best_params = gsearch.grid_scores_, gsearch.best_params_\n",
    "\n",
    "    def fit_gb(self, params):\n",
    "        # Fit model\n",
    "        self.clf = GradientBoostingRegressor(**params)\n",
    "        self.clf.fit(self.X_train, self.Y_train)\n",
    "\n",
    "    def plot_feature_importance(self, n):\n",
    "        importances = self.clf.feature_importances_\n",
    "        feature_names = self.X_test.columns\n",
    "        indices = np.argsort(importances)[::-1][:n]\n",
    "        fig, ax = plt.subplots(1,1)\n",
    "        fig.set_size_inches(10,6)\n",
    "        plt.title(\"Feature importances\", fontsize = 16)\n",
    "        xlabels = [feature_names[int(i)] for i in indices]\n",
    "        plt.bar(range(n), importances[indices],\n",
    "                color=\"#799DBB\",  align=\"center\")\n",
    "        plt.grid()\n",
    "        plt.xticks(range(n), xlabels, rotation=90)\n",
    "        plt.xlim([-1, n])\n",
    "        plt.ylim([0, min(1, max(importances[indices]+0.0005))])\n",
    "        plt.xlabel('Features', fontsize = 14)\n",
    "        plt.ylabel('Feature Importance', fontsize = 14)\n",
    "        plt.title('Product '+  self.product +' Variable Importance')\n",
    "        plt.show()\n",
    "\n",
    "\n",
    "class MLR(ml_models):\n",
    "    # Multiple linear regression\n",
    "    def __init__(self, data, product):\n",
    "        ml_models.__init__(self, data, product, name = \"MLR\")\n",
    "\n",
    "    def fit_mlr(self):\n",
    "        # Fit model\n",
    "        self.clf = linear_model.LinearRegression(fit_intercept=False)\n",
    "        self.clf.fit(self.X_train, self.Y_train)\n",
    "        self.clf.coef = self.clf.coef_"
   ]
  },
  {
   "cell_type": "markdown",
   "metadata": {},
   "source": [
    "# Analysis"
   ]
  },
  {
   "cell_type": "markdown",
   "metadata": {},
   "source": [
    "#### Fixed Inputs"
   ]
  },
  {
   "cell_type": "code",
   "execution_count": 23,
   "metadata": {
    "collapsed": true
   },
   "outputs": [],
   "source": [
    "# Product List\n",
    "all_products = ['P1','P2','P3','P4','P5','P6','P7','P8','P9']\n",
    "\n",
    "# Output Path\n",
    "output_path = '/Users/felipeformentiferreira/Documents/github_portfolio/pricing_challenge/data/output/'\n",
    "\n",
    "# Database inputs\n",
    "host = 'localhost'\n",
    "DB = 'postgres'\n",
    "username = my_pass.username\n",
    "password = my_pass.password"
   ]
  },
  {
   "cell_type": "markdown",
   "metadata": {},
   "source": [
    "### Reading Data"
   ]
  },
  {
   "cell_type": "code",
   "execution_count": 24,
   "metadata": {
    "collapsed": false
   },
   "outputs": [],
   "source": [
    "# Reading tables\n",
    "sales, price_im = reading(host, DB, username, password)"
   ]
  },
  {
   "cell_type": "markdown",
   "metadata": {},
   "source": [
    "### Getting the Competitor's Price"
   ]
  },
  {
   "cell_type": "code",
   "execution_count": 25,
   "metadata": {
    "collapsed": false
   },
   "outputs": [],
   "source": [
    "# Reshaping the data to perform a join in order to get Competitor's Prices\n",
    "price_im_wide = pd.pivot_table(price_im, index = ['prod_id','date_order'], \\\n",
    "    columns = ['competitor'], values = 'competitor_price')\n",
    "price_im_wide.reset_index(inplace = True)\n",
    "master_df = pd.merge(sales, price_im_wide, how='left', on=['prod_id','date_order'])"
   ]
  },
  {
   "cell_type": "markdown",
   "metadata": {},
   "source": [
    "### Getting other Product's Price"
   ]
  },
  {
   "cell_type": "code",
   "execution_count": 6,
   "metadata": {
    "collapsed": false
   },
   "outputs": [],
   "source": [
    "# # Reshaping the data to perform a join in order to get the Product's Prices\n",
    "# day_price_prod = master_df[['prod_id','date_order','price']]\n",
    "# day_price_prod_wide = pd.pivot_table(day_price_prod, index = ['date_order'], \\\n",
    "#     columns = ['prod_id'], values = 'price')\n",
    "# day_price_prod_wide.reset_index(inplace = True)\n",
    "# master_df = pd.merge(master_df, day_price_prod_wide, how='left', on=['date_order'])"
   ]
  },
  {
   "cell_type": "markdown",
   "metadata": {},
   "source": [
    "## Fitting Models"
   ]
  },
  {
   "cell_type": "markdown",
   "metadata": {},
   "source": [
    "### P1"
   ]
  },
  {
   "cell_type": "code",
   "execution_count": 13,
   "metadata": {
    "collapsed": false
   },
   "outputs": [],
   "source": [
    "my_product = 'P1'\n",
    "competitors = ['C1','C2','C3','C5','C6']"
   ]
  },
  {
   "cell_type": "markdown",
   "metadata": {},
   "source": [
    "#### Linear Regression (Baseline)"
   ]
  },
  {
   "cell_type": "code",
   "execution_count": 14,
   "metadata": {
    "collapsed": false
   },
   "outputs": [
    {
     "name": "stdout",
     "output_type": "stream",
     "text": [
      "Model:  MLR\n",
      "MAE: 7.7900\n",
      "MSE: 104.3331\n",
      "Price coef:  0.0109616830531\n"
     ]
    }
   ],
   "source": [
    "# Creating a Gradient Boosting Object with the dataframe and a given product\n",
    "mlr = MLR(master_df, my_product)\n",
    "mlr.prepare_data()\n",
    "\n",
    "# Removing rows where there is no price for any competitor\n",
    "mlr.rem_rows_comp_NA(competitors)\n",
    "\n",
    "# Creating a training and a test set to evaluate model later\n",
    "mlr.make_train_test()\n",
    "mlr.select_X_Y(Y = 'qty_order', X_keep = ['price'])\n",
    "\n",
    "# Fitting model with best parameters\n",
    "mlr.fit_mlr()\n",
    "\n",
    "# Predict\n",
    "mlr.predict_test()\n",
    "mlr.print_metrics(regression_metrics = True)\n",
    "\n",
    "# Writing results\n",
    "mlr.merge_result()\n",
    "mlr.write_model_results(output_path)\n",
    "print \"Price coef: \", mlr.clf.coef[0]"
   ]
  },
  {
   "cell_type": "code",
   "execution_count": 15,
   "metadata": {
    "collapsed": false
   },
   "outputs": [
    {
     "data": {
      "text/html": [
       "<div>\n",
       "<table border=\"1\" class=\"dataframe\">\n",
       "  <thead>\n",
       "    <tr style=\"text-align: right;\">\n",
       "      <th></th>\n",
       "      <th>prod_id</th>\n",
       "      <th>date_order</th>\n",
       "      <th>price</th>\n",
       "      <th>Y_test</th>\n",
       "      <th>Y_pred</th>\n",
       "    </tr>\n",
       "  </thead>\n",
       "  <tbody>\n",
       "    <tr>\n",
       "      <th>987</th>\n",
       "      <td>P1</td>\n",
       "      <td>2015-03-16</td>\n",
       "      <td>1402.312500</td>\n",
       "      <td>24</td>\n",
       "      <td>15.371705</td>\n",
       "    </tr>\n",
       "    <tr>\n",
       "      <th>103</th>\n",
       "      <td>P1</td>\n",
       "      <td>2015-03-22</td>\n",
       "      <td>1421.000000</td>\n",
       "      <td>7</td>\n",
       "      <td>15.576552</td>\n",
       "    </tr>\n",
       "    <tr>\n",
       "      <th>1896</th>\n",
       "      <td>P1</td>\n",
       "      <td>2015-03-29</td>\n",
       "      <td>1499.000000</td>\n",
       "      <td>7</td>\n",
       "      <td>16.431563</td>\n",
       "    </tr>\n",
       "    <tr>\n",
       "      <th>927</th>\n",
       "      <td>P1</td>\n",
       "      <td>2015-03-31</td>\n",
       "      <td>1483.776364</td>\n",
       "      <td>11</td>\n",
       "      <td>16.264686</td>\n",
       "    </tr>\n",
       "    <tr>\n",
       "      <th>1652</th>\n",
       "      <td>P1</td>\n",
       "      <td>2015-04-04</td>\n",
       "      <td>1480.262500</td>\n",
       "      <td>8</td>\n",
       "      <td>16.226168</td>\n",
       "    </tr>\n",
       "    <tr>\n",
       "      <th>1031</th>\n",
       "      <td>P1</td>\n",
       "      <td>2015-04-07</td>\n",
       "      <td>1487.461538</td>\n",
       "      <td>13</td>\n",
       "      <td>16.305082</td>\n",
       "    </tr>\n",
       "    <tr>\n",
       "      <th>910</th>\n",
       "      <td>P1</td>\n",
       "      <td>2015-04-10</td>\n",
       "      <td>1457.333333</td>\n",
       "      <td>12</td>\n",
       "      <td>15.974826</td>\n",
       "    </tr>\n",
       "    <tr>\n",
       "      <th>291</th>\n",
       "      <td>P1</td>\n",
       "      <td>2015-04-19</td>\n",
       "      <td>1389.007143</td>\n",
       "      <td>14</td>\n",
       "      <td>15.225856</td>\n",
       "    </tr>\n",
       "    <tr>\n",
       "      <th>246</th>\n",
       "      <td>P1</td>\n",
       "      <td>2015-04-26</td>\n",
       "      <td>1399.000000</td>\n",
       "      <td>13</td>\n",
       "      <td>15.335395</td>\n",
       "    </tr>\n",
       "    <tr>\n",
       "      <th>716</th>\n",
       "      <td>P1</td>\n",
       "      <td>2015-05-05</td>\n",
       "      <td>1440.670000</td>\n",
       "      <td>30</td>\n",
       "      <td>15.792168</td>\n",
       "    </tr>\n",
       "  </tbody>\n",
       "</table>\n",
       "</div>"
      ],
      "text/plain": [
       "     prod_id  date_order        price  Y_test     Y_pred\n",
       "987       P1  2015-03-16  1402.312500      24  15.371705\n",
       "103       P1  2015-03-22  1421.000000       7  15.576552\n",
       "1896      P1  2015-03-29  1499.000000       7  16.431563\n",
       "927       P1  2015-03-31  1483.776364      11  16.264686\n",
       "1652      P1  2015-04-04  1480.262500       8  16.226168\n",
       "1031      P1  2015-04-07  1487.461538      13  16.305082\n",
       "910       P1  2015-04-10  1457.333333      12  15.974826\n",
       "291       P1  2015-04-19  1389.007143      14  15.225856\n",
       "246       P1  2015-04-26  1399.000000      13  15.335395\n",
       "716       P1  2015-05-05  1440.670000      30  15.792168"
      ]
     },
     "execution_count": 15,
     "metadata": {},
     "output_type": "execute_result"
    }
   ],
   "source": [
    "mlr.df_test[['prod_id','date_order','price','Y_test','Y_pred']].head(10)"
   ]
  },
  {
   "cell_type": "markdown",
   "metadata": {},
   "source": [
    "#### Gradient Boosting"
   ]
  },
  {
   "cell_type": "code",
   "execution_count": 16,
   "metadata": {
    "collapsed": false
   },
   "outputs": [
    {
     "name": "stderr",
     "output_type": "stream",
     "text": [
      "/usr/local/lib/python2.7/site-packages/ipykernel/__main__.py:47: SettingWithCopyWarning: \n",
      "A value is trying to be set on a copy of a slice from a DataFrame\n",
      "\n",
      "See the the caveats in the documentation: http://pandas.pydata.org/pandas-docs/stable/indexing.html#indexing-view-versus-copy\n"
     ]
    },
    {
     "name": "stdout",
     "output_type": "stream",
     "text": [
      "Model:  GBR\n",
      "MAE: 5.6732\n",
      "MSE: 49.9864\n"
     ]
    },
    {
     "data": {
      "image/png": "[encoded data removed]",
      "text/plain": [
       "<matplotlib.figure.Figure at 0x110fc01d0>"
      ]
     },
     "metadata": {},
     "output_type": "display_data"
    }
   ],
   "source": [
    "# Creating a Gradient Boosting Object with the dataframe and a given product\n",
    "gb = GBM(master_df, my_product) \n",
    "gb.prepare_data()\n",
    "\n",
    "# Removing rows where there is no price for any competitor\n",
    "gb.rem_rows_comp_NA(competitors)\n",
    "\n",
    "# Fill missing values for competitors price\n",
    "gb.fill_comp_price_NA(competitors)\n",
    "\n",
    "# Creating a training and a test set to evaluate model later\n",
    "gb.make_train_test()\n",
    "gb.select_X_Y(Y = 'qty_order', X_drop = ['prod_id','revenue','date_order'])\n",
    "\n",
    "# Grid Search to find best parameters\n",
    "params = {'n_estimators': [50, 100, 300, 500], 'max_depth': [2,3,4], 'max_features': ['sqrt']}\n",
    "gb.grid_search(params)\n",
    "\n",
    "# Fitting model with best parameters\n",
    "gb.fit_gb(gb.best_params)\n",
    "\n",
    "# Predict\n",
    "gb.predict_test()\n",
    "gb.print_metrics(regression_metrics = True)\n",
    "\n",
    "# Writing results\n",
    "gb.merge_result()\n",
    "gb.write_model_results(output_path)\n",
    "\n",
    "# Plot feature importance\n",
    "gb.plot_feature_importance(gb.n_regressors)"
   ]
  },
  {
   "cell_type": "code",
   "execution_count": 17,
   "metadata": {
    "collapsed": false
   },
   "outputs": [
    {
     "data": {
      "text/plain": [
       "[mean: -0.03770, std: 0.03630, params: {'max_features': 'sqrt', 'n_estimators': 100, 'max_depth': 2},\n",
       " mean: -0.00899, std: 0.00959, params: {'max_features': 'sqrt', 'n_estimators': 100, 'max_depth': 2},\n",
       " mean: -0.02324, std: 0.02946, params: {'max_features': 'sqrt', 'n_estimators': 300, 'max_depth': 2},\n",
       " mean: -0.02200, std: 0.02547, params: {'max_features': 'sqrt', 'n_estimators': 500, 'max_depth': 2},\n",
       " mean: -0.02141, std: 0.02599, params: {'max_features': 'sqrt', 'n_estimators': 50, 'max_depth': 3},\n",
       " mean: -0.02528, std: 0.03374, params: {'max_features': 'sqrt', 'n_estimators': 100, 'max_depth': 3},\n",
       " mean: -0.02324, std: 0.02946, params: {'max_features': 'sqrt', 'n_estimators': 300, 'max_depth': 3},\n",
       " mean: -0.02200, std: 0.02547, params: {'max_features': 'sqrt', 'n_estimators': 500, 'max_depth': 3},\n",
       " mean: -0.02141, std: 0.02599, params: {'max_features': 'sqrt', 'n_estimators': 50, 'max_depth': 4},\n",
       " mean: -0.02528, std: 0.03374, params: {'max_features': 'sqrt', 'n_estimators': 100, 'max_depth': 4},\n",
       " mean: -0.02324, std: 0.02946, params: {'max_features': 'sqrt', 'n_estimators': 300, 'max_depth': 4},\n",
       " mean: -0.02200, std: 0.02547, params: {'max_features': 'sqrt', 'n_estimators': 500, 'max_depth': 4}]"
      ]
     },
     "execution_count": 17,
     "metadata": {},
     "output_type": "execute_result"
    }
   ],
   "source": [
    "# Printing grid search\n",
    "gb.grid_scores"
   ]
  },
  {
   "cell_type": "code",
   "execution_count": 18,
   "metadata": {
    "collapsed": false
   },
   "outputs": [
    {
     "data": {
      "text/html": [
       "<div>\n",
       "<table border=\"1\" class=\"dataframe\">\n",
       "  <thead>\n",
       "    <tr style=\"text-align: right;\">\n",
       "      <th></th>\n",
       "      <th>prod_id</th>\n",
       "      <th>date_order</th>\n",
       "      <th>price</th>\n",
       "      <th>Y_test</th>\n",
       "      <th>Y_pred</th>\n",
       "    </tr>\n",
       "  </thead>\n",
       "  <tbody>\n",
       "    <tr>\n",
       "      <th>987</th>\n",
       "      <td>P1</td>\n",
       "      <td>2015-03-16</td>\n",
       "      <td>1402.312500</td>\n",
       "      <td>24</td>\n",
       "      <td>26.999431</td>\n",
       "    </tr>\n",
       "    <tr>\n",
       "      <th>103</th>\n",
       "      <td>P1</td>\n",
       "      <td>2015-03-22</td>\n",
       "      <td>1421.000000</td>\n",
       "      <td>7</td>\n",
       "      <td>16.499028</td>\n",
       "    </tr>\n",
       "    <tr>\n",
       "      <th>1896</th>\n",
       "      <td>P1</td>\n",
       "      <td>2015-03-29</td>\n",
       "      <td>1499.000000</td>\n",
       "      <td>7</td>\n",
       "      <td>13.615307</td>\n",
       "    </tr>\n",
       "    <tr>\n",
       "      <th>927</th>\n",
       "      <td>P1</td>\n",
       "      <td>2015-03-31</td>\n",
       "      <td>1483.776364</td>\n",
       "      <td>11</td>\n",
       "      <td>12.187607</td>\n",
       "    </tr>\n",
       "    <tr>\n",
       "      <th>1652</th>\n",
       "      <td>P1</td>\n",
       "      <td>2015-04-04</td>\n",
       "      <td>1480.262500</td>\n",
       "      <td>8</td>\n",
       "      <td>7.095488</td>\n",
       "    </tr>\n",
       "    <tr>\n",
       "      <th>1031</th>\n",
       "      <td>P1</td>\n",
       "      <td>2015-04-07</td>\n",
       "      <td>1487.461538</td>\n",
       "      <td>13</td>\n",
       "      <td>6.365761</td>\n",
       "    </tr>\n",
       "    <tr>\n",
       "      <th>910</th>\n",
       "      <td>P1</td>\n",
       "      <td>2015-04-10</td>\n",
       "      <td>1457.333333</td>\n",
       "      <td>12</td>\n",
       "      <td>11.155337</td>\n",
       "    </tr>\n",
       "    <tr>\n",
       "      <th>291</th>\n",
       "      <td>P1</td>\n",
       "      <td>2015-04-19</td>\n",
       "      <td>1389.007143</td>\n",
       "      <td>14</td>\n",
       "      <td>3.834154</td>\n",
       "    </tr>\n",
       "    <tr>\n",
       "      <th>246</th>\n",
       "      <td>P1</td>\n",
       "      <td>2015-04-26</td>\n",
       "      <td>1399.000000</td>\n",
       "      <td>13</td>\n",
       "      <td>9.478059</td>\n",
       "    </tr>\n",
       "    <tr>\n",
       "      <th>716</th>\n",
       "      <td>P1</td>\n",
       "      <td>2015-05-05</td>\n",
       "      <td>1440.670000</td>\n",
       "      <td>30</td>\n",
       "      <td>19.713369</td>\n",
       "    </tr>\n",
       "  </tbody>\n",
       "</table>\n",
       "</div>"
      ],
      "text/plain": [
       "     prod_id  date_order        price  Y_test     Y_pred\n",
       "987       P1  2015-03-16  1402.312500      24  26.999431\n",
       "103       P1  2015-03-22  1421.000000       7  16.499028\n",
       "1896      P1  2015-03-29  1499.000000       7  13.615307\n",
       "927       P1  2015-03-31  1483.776364      11  12.187607\n",
       "1652      P1  2015-04-04  1480.262500       8   7.095488\n",
       "1031      P1  2015-04-07  1487.461538      13   6.365761\n",
       "910       P1  2015-04-10  1457.333333      12  11.155337\n",
       "291       P1  2015-04-19  1389.007143      14   3.834154\n",
       "246       P1  2015-04-26  1399.000000      13   9.478059\n",
       "716       P1  2015-05-05  1440.670000      30  19.713369"
      ]
     },
     "execution_count": 18,
     "metadata": {},
     "output_type": "execute_result"
    }
   ],
   "source": [
    "gb.df_test[['prod_id','date_order','price','Y_test','Y_pred']].head(10)"
   ]
  },
  {
   "cell_type": "code",
   "execution_count": null,
   "metadata": {
    "collapsed": true
   },
   "outputs": [],
   "source": []
  },
  {
   "cell_type": "code",
   "execution_count": null,
   "metadata": {
    "collapsed": true
   },
   "outputs": [],
   "source": []
  },
  {
   "cell_type": "code",
   "execution_count": null,
   "metadata": {
    "collapsed": true
   },
   "outputs": [],
   "source": []
  },
  {
   "cell_type": "code",
   "execution_count": null,
   "metadata": {
    "collapsed": true
   },
   "outputs": [],
   "source": []
  },
  {
   "cell_type": "code",
   "execution_count": null,
   "metadata": {
    "collapsed": true
   },
   "outputs": [],
   "source": []
  },
  {
   "cell_type": "code",
   "execution_count": null,
   "metadata": {
    "collapsed": true
   },
   "outputs": [],
   "source": []
  }
 ],
 "metadata": {
  "kernelspec": {
   "display_name": "Python 2",
   "language": "python",
   "name": "python2"
  },
  "language_info": {
   "codemirror_mode": {
    "name": "ipython",
    "version": 2
   },
   "file_extension": ".py",
   "mimetype": "text/x-python",
   "name": "python",
   "nbconvert_exporter": "python",
   "pygments_lexer": "ipython2",
   "version": "2.7.10"
  }
 },
 "nbformat": 4,
 "nbformat_minor": 0
}
